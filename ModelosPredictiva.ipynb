{
  "nbformat": 4,
  "nbformat_minor": 0,
  "metadata": {
    "colab": {
      "name": "ModelosPredictiva.ipynb",
      "provenance": [],
      "authorship_tag": "ABX9TyO/P68GXHOSjY0L1Beu2kL+",
      "include_colab_link": true
    },
    "kernelspec": {
      "name": "python3",
      "display_name": "Python 3"
    },
    "language_info": {
      "name": "python"
    }
  },
  "cells": [
    {
      "cell_type": "markdown",
      "metadata": {
        "id": "view-in-github",
        "colab_type": "text"
      },
      "source": [
        "<a href=\"https://colab.research.google.com/github/dfiorellino/Ana-Pred/blob/main/ModelosPredictiva.ipynb\" target=\"_parent\"><img src=\"https://colab.research.google.com/assets/colab-badge.svg\" alt=\"Open In Colab\"/></a>"
      ]
    },
    {
      "cell_type": "code",
      "metadata": {
        "id": "P833jFYapehz"
      },
      "source": [
        "import pandas as pd\n",
        "import numpy as np\n",
        "from sklearn.model_selection import train_test_split, RandomizedSearchCV, GridSearchCV\n",
        "from sklearn.ensemble import RandomForestRegressor, ExtraTreesRegressor\n",
        "from sklearn.metrics import accuracy_score, mean_absolute_error\n",
        "from sklearn import preprocessing\n",
        "from sklearn.metrics import r2_score\n",
        "from sklearn.preprocessing import scale\n",
        "from math import *"
      ],
      "execution_count": null,
      "outputs": []
    },
    {
      "cell_type": "code",
      "metadata": {
        "colab": {
          "base_uri": "https://localhost:8080/"
        },
        "id": "YnjlbWsKpnUw",
        "outputId": "9a3c2914-215e-44a0-95cf-660e9b2469e4"
      },
      "source": [
        "from google.colab import drive\n",
        "drive.mount('/content/gdrive')"
      ],
      "execution_count": null,
      "outputs": [
        {
          "output_type": "stream",
          "name": "stdout",
          "text": [
            "Drive already mounted at /content/gdrive; to attempt to forcibly remount, call drive.mount(\"/content/gdrive\", force_remount=True).\n"
          ]
        }
      ]
    },
    {
      "cell_type": "code",
      "metadata": {
        "id": "BWr29QedprVU"
      },
      "source": [
        "test =pd.read_csv('/content/gdrive/MyDrive/Colab Notebooks/Prueba_test.csv',sep=',')"
      ],
      "execution_count": null,
      "outputs": []
    },
    {
      "cell_type": "code",
      "metadata": {
        "id": "okrTmODHpvCM"
      },
      "source": [
        "entrenar=pd.read_csv('/content/gdrive/MyDrive/Colab Notebooks/Prueba_entrenar.csv',sep=',')"
      ],
      "execution_count": null,
      "outputs": []
    },
    {
      "cell_type": "code",
      "metadata": {
        "colab": {
          "base_uri": "https://localhost:8080/"
        },
        "id": "W5kSNHMQrirD",
        "outputId": "05f84e4b-75dc-4c79-81b8-72eba38af1df"
      },
      "source": [
        "test.info()"
      ],
      "execution_count": null,
      "outputs": [
        {
          "output_type": "stream",
          "name": "stdout",
          "text": [
            "<class 'pandas.core.frame.DataFrame'>\n",
            "RangeIndex: 269998 entries, 0 to 269997\n",
            "Data columns (total 24 columns):\n",
            " #   Column                  Non-Null Count   Dtype  \n",
            "---  ------                  --------------   -----  \n",
            " 0   Unnamed: 0              269998 non-null  int64  \n",
            " 1   averageRating           269998 non-null  float64\n",
            " 2   numVotes                269998 non-null  int64  \n",
            " 3   isAdult                 269998 non-null  int64  \n",
            " 4   startYear               269998 non-null  int64  \n",
            " 5   endYear                 269998 non-null  int64  \n",
            " 6   runtimeMinutes          269998 non-null  int64  \n",
            " 7   seasonNumber            269998 non-null  int64  \n",
            " 8   episodeNumber           269998 non-null  int64  \n",
            " 9   high_director           269998 non-null  int64  \n",
            " 10  low_director            269998 non-null  int64  \n",
            " 11  high_writer             269998 non-null  int64  \n",
            " 12  low_writer              269998 non-null  int64  \n",
            " 13  high_genre              269998 non-null  int64  \n",
            " 14  titleType_movie         269998 non-null  int64  \n",
            " 15  titleType_short         269998 non-null  int64  \n",
            " 16  titleType_tvEpisode     269998 non-null  int64  \n",
            " 17  titleType_tvMiniSeries  269998 non-null  int64  \n",
            " 18  titleType_tvMovie       269998 non-null  int64  \n",
            " 19  titleType_tvSeries      269998 non-null  int64  \n",
            " 20  titleType_tvShort       269998 non-null  int64  \n",
            " 21  titleType_tvSpecial     269998 non-null  int64  \n",
            " 22  titleType_video         269998 non-null  int64  \n",
            " 23  titleType_videoGame     269998 non-null  int64  \n",
            "dtypes: float64(1), int64(23)\n",
            "memory usage: 49.4 MB\n"
          ]
        }
      ]
    },
    {
      "cell_type": "code",
      "metadata": {
        "colab": {
          "base_uri": "https://localhost:8080/"
        },
        "id": "DKcCPuU2rvb2",
        "outputId": "ef6dd066-cd02-479e-bee8-e5d24effba54"
      },
      "source": [
        "entrenar.info()"
      ],
      "execution_count": null,
      "outputs": [
        {
          "output_type": "stream",
          "name": "stdout",
          "text": [
            "<class 'pandas.core.frame.DataFrame'>\n",
            "RangeIndex: 630002 entries, 0 to 630001\n",
            "Data columns (total 24 columns):\n",
            " #   Column                  Non-Null Count   Dtype  \n",
            "---  ------                  --------------   -----  \n",
            " 0   Unnamed: 0              630002 non-null  int64  \n",
            " 1   averageRating           630002 non-null  float64\n",
            " 2   numVotes                630002 non-null  int64  \n",
            " 3   isAdult                 630002 non-null  int64  \n",
            " 4   startYear               630002 non-null  int64  \n",
            " 5   endYear                 630002 non-null  int64  \n",
            " 6   runtimeMinutes          630002 non-null  int64  \n",
            " 7   seasonNumber            630002 non-null  int64  \n",
            " 8   episodeNumber           630002 non-null  int64  \n",
            " 9   high_director           630002 non-null  int64  \n",
            " 10  low_director            630002 non-null  int64  \n",
            " 11  high_writer             630002 non-null  int64  \n",
            " 12  low_writer              630002 non-null  int64  \n",
            " 13  high_genre              630002 non-null  int64  \n",
            " 14  titleType_movie         630002 non-null  int64  \n",
            " 15  titleType_short         630002 non-null  int64  \n",
            " 16  titleType_tvEpisode     630002 non-null  int64  \n",
            " 17  titleType_tvMiniSeries  630002 non-null  int64  \n",
            " 18  titleType_tvMovie       630002 non-null  int64  \n",
            " 19  titleType_tvSeries      630002 non-null  int64  \n",
            " 20  titleType_tvShort       630002 non-null  int64  \n",
            " 21  titleType_tvSpecial     630002 non-null  int64  \n",
            " 22  titleType_video         630002 non-null  int64  \n",
            " 23  titleType_videoGame     630002 non-null  int64  \n",
            "dtypes: float64(1), int64(23)\n",
            "memory usage: 115.4 MB\n"
          ]
        }
      ]
    },
    {
      "cell_type": "code",
      "metadata": {
        "id": "SIErvkUbry7s"
      },
      "source": [
        "y_test =test['averageRating']\n",
        "\n",
        "X_test =test[['numVotes','isAdult','startYear', 'runtimeMinutes', 'seasonNumber','episodeNumber','high_director','low_director','high_writer','low_writer','high_genre', 'titleType_movie', 'titleType_short', 'titleType_tvEpisode', 'titleType_tvMiniSeries', 'titleType_tvMovie','titleType_tvSeries','titleType_tvShort','titleType_tvSpecial',\n",
        "                  'titleType_video']]"
      ],
      "execution_count": null,
      "outputs": []
    },
    {
      "cell_type": "code",
      "metadata": {
        "id": "EKbtGUY8skrr"
      },
      "source": [
        "y_train=entrenar['averageRating']\n",
        "\n",
        "X_train=entrenar[['numVotes','isAdult','startYear', 'runtimeMinutes', 'seasonNumber','episodeNumber','high_director','low_director','high_writer','low_writer','high_genre', 'titleType_movie', 'titleType_short', 'titleType_tvEpisode', 'titleType_tvMiniSeries', 'titleType_tvMovie','titleType_tvSeries','titleType_tvShort','titleType_tvSpecial',\n",
        "                  'titleType_video']]"
      ],
      "execution_count": null,
      "outputs": []
    },
    {
      "cell_type": "markdown",
      "metadata": {
        "id": "97A3O3Evvr7W"
      },
      "source": [
        "EXTRE TREES"
      ]
    },
    {
      "cell_type": "code",
      "metadata": {
        "id": "mKHSKfqMtBGG"
      },
      "source": [
        "extraTr = ExtraTreesRegressor(max_depth=29,n_estimators=190,random_state=42,bootstrap=True)\n",
        "extra = extraTr.fit(X_train,y_train)"
      ],
      "execution_count": null,
      "outputs": []
    },
    {
      "cell_type": "code",
      "metadata": {
        "colab": {
          "base_uri": "https://localhost:8080/"
        },
        "id": "DvQc9ZnQtu3r",
        "outputId": "60678f53-df1f-4611-a893-6fef04814906"
      },
      "source": [
        "extra.score(X_test, y_test)"
      ],
      "execution_count": null,
      "outputs": [
        {
          "output_type": "execute_result",
          "data": {
            "text/plain": [
              "0.37144220962746155"
            ]
          },
          "metadata": {},
          "execution_count": 9
        }
      ]
    },
    {
      "cell_type": "code",
      "metadata": {
        "colab": {
          "base_uri": "https://localhost:8080/"
        },
        "id": "cBs7KlaWt0Lt",
        "outputId": "863ff788-56c3-4fdb-b10f-7fccbb1e82e7"
      },
      "source": [
        "extra.score(X_train, y_train)"
      ],
      "execution_count": null,
      "outputs": [
        {
          "output_type": "execute_result",
          "data": {
            "text/plain": [
              "0.6221301875885148"
            ]
          },
          "metadata": {},
          "execution_count": 10
        }
      ]
    },
    {
      "cell_type": "code",
      "metadata": {
        "id": "n_Fhtjj0UtuS"
      },
      "source": [
        "# con 29 y 160 estimators 0.3713408102676746\n",
        "# con 29 y 180 estimators 0.3713964300686944\n",
        "# con 27 y 190 estimators 0.3707142067155824\n",
        "# con 27 y 180 estimators 0.3707013338241545\n",
        "# con 29 y 190 estimators 0.37144220962746155"
      ],
      "execution_count": null,
      "outputs": []
    },
    {
      "cell_type": "markdown",
      "metadata": {
        "id": "BVyAPsvj2Wa1"
      },
      "source": [
        "Hiperparametros ExtraT"
      ]
    },
    {
      "cell_type": "code",
      "metadata": {
        "colab": {
          "base_uri": "https://localhost:8080/"
        },
        "id": "L5TUOJ5Svt_8",
        "outputId": "69aa2a3a-be30-4117-d86f-f55569490f85"
      },
      "source": [
        "fila = []\n",
        "\n",
        "for i in range(22,27,2):\n",
        "  print(i)\n",
        "  regr2 = ExtraTreesRegressor(max_depth=i)\n",
        "  fregr2 = regr2.fit(X_train,y_train)\n",
        "  r2_train = fregr2.score(X_train, y_train)\n",
        "  r2_test = fregr2.score(X_test, y_test)\n",
        "  fila.append([i,r2_train,r2_test])"
      ],
      "execution_count": null,
      "outputs": [
        {
          "output_type": "stream",
          "name": "stdout",
          "text": [
            "22\n",
            "24\n",
            "26\n"
          ]
        }
      ]
    },
    {
      "cell_type": "code",
      "metadata": {
        "colab": {
          "base_uri": "https://localhost:8080/",
          "height": 142
        },
        "id": "wCGMBR2g1sFS",
        "outputId": "94c80d5c-4fb4-4ad4-d990-43f3de7f5f6b"
      },
      "source": [
        "scores_profundidad2 = pd.DataFrame(fila, columns=[\"max_depth\",\"r2_train\",\"r2_test\"])\n",
        "scores_profundidad2"
      ],
      "execution_count": null,
      "outputs": [
        {
          "output_type": "execute_result",
          "data": {
            "text/html": [
              "<div>\n",
              "<style scoped>\n",
              "    .dataframe tbody tr th:only-of-type {\n",
              "        vertical-align: middle;\n",
              "    }\n",
              "\n",
              "    .dataframe tbody tr th {\n",
              "        vertical-align: top;\n",
              "    }\n",
              "\n",
              "    .dataframe thead th {\n",
              "        text-align: right;\n",
              "    }\n",
              "</style>\n",
              "<table border=\"1\" class=\"dataframe\">\n",
              "  <thead>\n",
              "    <tr style=\"text-align: right;\">\n",
              "      <th></th>\n",
              "      <th>max_depth</th>\n",
              "      <th>r2_train</th>\n",
              "      <th>r2_test</th>\n",
              "    </tr>\n",
              "  </thead>\n",
              "  <tbody>\n",
              "    <tr>\n",
              "      <th>0</th>\n",
              "      <td>22</td>\n",
              "      <td>0.435689</td>\n",
              "      <td>0.350511</td>\n",
              "    </tr>\n",
              "    <tr>\n",
              "      <th>1</th>\n",
              "      <td>24</td>\n",
              "      <td>0.490196</td>\n",
              "      <td>0.361295</td>\n",
              "    </tr>\n",
              "    <tr>\n",
              "      <th>2</th>\n",
              "      <td>26</td>\n",
              "      <td>0.554416</td>\n",
              "      <td>0.368333</td>\n",
              "    </tr>\n",
              "  </tbody>\n",
              "</table>\n",
              "</div>"
            ],
            "text/plain": [
              "   max_depth  r2_train   r2_test\n",
              "0         22  0.435689  0.350511\n",
              "1         24  0.490196  0.361295\n",
              "2         26  0.554416  0.368333"
            ]
          },
          "metadata": {},
          "execution_count": 10
        }
      ]
    },
    {
      "cell_type": "code",
      "metadata": {
        "colab": {
          "base_uri": "https://localhost:8080/",
          "height": 173
        },
        "id": "P2VIekLMv0hb",
        "outputId": "7989fdc6-efec-4e9d-fa45-c5c4fca1cacf"
      },
      "source": [
        "scores_profundidad = pd.DataFrame(fila, columns=[\"max_depth\",\"r2_train\",\"r2_test\"])\n",
        "scores_profundidad"
      ],
      "execution_count": null,
      "outputs": [
        {
          "output_type": "execute_result",
          "data": {
            "text/html": [
              "<div>\n",
              "<style scoped>\n",
              "    .dataframe tbody tr th:only-of-type {\n",
              "        vertical-align: middle;\n",
              "    }\n",
              "\n",
              "    .dataframe tbody tr th {\n",
              "        vertical-align: top;\n",
              "    }\n",
              "\n",
              "    .dataframe thead th {\n",
              "        text-align: right;\n",
              "    }\n",
              "</style>\n",
              "<table border=\"1\" class=\"dataframe\">\n",
              "  <thead>\n",
              "    <tr style=\"text-align: right;\">\n",
              "      <th></th>\n",
              "      <th>max_depth</th>\n",
              "      <th>r2_train</th>\n",
              "      <th>r2_test</th>\n",
              "    </tr>\n",
              "  </thead>\n",
              "  <tbody>\n",
              "    <tr>\n",
              "      <th>0</th>\n",
              "      <td>27</td>\n",
              "      <td>0.586698</td>\n",
              "      <td>0.369364</td>\n",
              "    </tr>\n",
              "    <tr>\n",
              "      <th>1</th>\n",
              "      <td>29</td>\n",
              "      <td>0.655869</td>\n",
              "      <td>0.365579</td>\n",
              "    </tr>\n",
              "    <tr>\n",
              "      <th>2</th>\n",
              "      <td>31</td>\n",
              "      <td>0.716332</td>\n",
              "      <td>0.354665</td>\n",
              "    </tr>\n",
              "    <tr>\n",
              "      <th>3</th>\n",
              "      <td>33</td>\n",
              "      <td>0.772133</td>\n",
              "      <td>0.338961</td>\n",
              "    </tr>\n",
              "  </tbody>\n",
              "</table>\n",
              "</div>"
            ],
            "text/plain": [
              "   max_depth  r2_train   r2_test\n",
              "0         27  0.586698  0.369364\n",
              "1         29  0.655869  0.365579\n",
              "2         31  0.716332  0.354665\n",
              "3         33  0.772133  0.338961"
            ]
          },
          "metadata": {},
          "execution_count": 8
        }
      ]
    },
    {
      "cell_type": "code",
      "metadata": {
        "id": "o-fLijnzv3tl"
      },
      "source": [
        "fila2 = []\n",
        "\n",
        "for i in range(180,201,5):\n",
        "  regr2 = ExtraTreesRegressor(max_depth=27,n_estimators=i,random_state=42)\n",
        "  fregr2 = regr2.fit(X_train,y_train)\n",
        "  r2_train = fregr2.score(X_train, y_train)\n",
        "  r2_test = fregr2.score(X_test, y_test)\n",
        "  fila2.append([i,r2_train,r2_test])"
      ],
      "execution_count": null,
      "outputs": []
    },
    {
      "cell_type": "code",
      "metadata": {
        "colab": {
          "base_uri": "https://localhost:8080/",
          "height": 204
        },
        "id": "ItDP7gdlwBOW",
        "outputId": "9c5c649e-fbae-4975-85cb-bb62588adb73"
      },
      "source": [
        "scores_n_estimators = pd.DataFrame(fila2, columns=[\"n_estimators\",\"r2_train\",\"r2_test\"])\n",
        "scores_n_estimators"
      ],
      "execution_count": null,
      "outputs": [
        {
          "output_type": "execute_result",
          "data": {
            "text/html": [
              "<div>\n",
              "<style scoped>\n",
              "    .dataframe tbody tr th:only-of-type {\n",
              "        vertical-align: middle;\n",
              "    }\n",
              "\n",
              "    .dataframe tbody tr th {\n",
              "        vertical-align: top;\n",
              "    }\n",
              "\n",
              "    .dataframe thead th {\n",
              "        text-align: right;\n",
              "    }\n",
              "</style>\n",
              "<table border=\"1\" class=\"dataframe\">\n",
              "  <thead>\n",
              "    <tr style=\"text-align: right;\">\n",
              "      <th></th>\n",
              "      <th>n_estimators</th>\n",
              "      <th>r2_train</th>\n",
              "      <th>r2_test</th>\n",
              "    </tr>\n",
              "  </thead>\n",
              "  <tbody>\n",
              "    <tr>\n",
              "      <th>0</th>\n",
              "      <td>180</td>\n",
              "      <td>0.586571</td>\n",
              "      <td>0.368689</td>\n",
              "    </tr>\n",
              "    <tr>\n",
              "      <th>1</th>\n",
              "      <td>185</td>\n",
              "      <td>0.586654</td>\n",
              "      <td>0.368701</td>\n",
              "    </tr>\n",
              "    <tr>\n",
              "      <th>2</th>\n",
              "      <td>190</td>\n",
              "      <td>0.586795</td>\n",
              "      <td>0.368755</td>\n",
              "    </tr>\n",
              "    <tr>\n",
              "      <th>3</th>\n",
              "      <td>195</td>\n",
              "      <td>0.586507</td>\n",
              "      <td>0.368683</td>\n",
              "    </tr>\n",
              "    <tr>\n",
              "      <th>4</th>\n",
              "      <td>200</td>\n",
              "      <td>0.586370</td>\n",
              "      <td>0.368729</td>\n",
              "    </tr>\n",
              "  </tbody>\n",
              "</table>\n",
              "</div>"
            ],
            "text/plain": [
              "   n_estimators  r2_train   r2_test\n",
              "0           180  0.586571  0.368689\n",
              "1           185  0.586654  0.368701\n",
              "2           190  0.586795  0.368755\n",
              "3           195  0.586507  0.368683\n",
              "4           200  0.586370  0.368729"
            ]
          },
          "metadata": {},
          "execution_count": 8
        }
      ]
    },
    {
      "cell_type": "markdown",
      "metadata": {
        "id": "LdHd3xMQvpFj"
      },
      "source": [
        "RANDOM FOREST"
      ]
    },
    {
      "cell_type": "markdown",
      "metadata": {
        "id": "EsZ5JcVR2UAP"
      },
      "source": [
        "Hiperparametros RF"
      ]
    },
    {
      "cell_type": "code",
      "metadata": {
        "colab": {
          "base_uri": "https://localhost:8080/"
        },
        "id": "W-kDnknIOaDm",
        "outputId": "cceea987-7de6-492d-84bc-b5af42c65481"
      },
      "source": [
        "fila3 = []\n",
        "\n",
        "for i in range(16,25,3):\n",
        "  print(i)\n",
        "  regr = RandomForestRegressor(max_depth=i,random_state=42)\n",
        "  fregr = regr.fit(X_train,y_train)\n",
        "  r2_train = fregr.score(X_train, y_train)\n",
        "  r2_test = fregr.score(X_test, y_test)\n",
        "  fila3.append([i,r2_train,r2_test])"
      ],
      "execution_count": null,
      "outputs": [
        {
          "output_type": "stream",
          "name": "stdout",
          "text": [
            "16\n",
            "19\n",
            "22\n"
          ]
        }
      ]
    },
    {
      "cell_type": "code",
      "metadata": {
        "colab": {
          "base_uri": "https://localhost:8080/",
          "height": 142
        },
        "id": "tQQ9tG91ToJa",
        "outputId": "d14eeed6-3355-4606-82bf-df878bef709f"
      },
      "source": [
        "scores_profundidad2 = pd.DataFrame(fila3, columns=[\"max_depth\",\"r2_train\",\"r2_test\"])\n",
        "scores_profundidad2"
      ],
      "execution_count": null,
      "outputs": [
        {
          "output_type": "execute_result",
          "data": {
            "text/html": [
              "<div>\n",
              "<style scoped>\n",
              "    .dataframe tbody tr th:only-of-type {\n",
              "        vertical-align: middle;\n",
              "    }\n",
              "\n",
              "    .dataframe tbody tr th {\n",
              "        vertical-align: top;\n",
              "    }\n",
              "\n",
              "    .dataframe thead th {\n",
              "        text-align: right;\n",
              "    }\n",
              "</style>\n",
              "<table border=\"1\" class=\"dataframe\">\n",
              "  <thead>\n",
              "    <tr style=\"text-align: right;\">\n",
              "      <th></th>\n",
              "      <th>max_depth</th>\n",
              "      <th>r2_train</th>\n",
              "      <th>r2_test</th>\n",
              "    </tr>\n",
              "  </thead>\n",
              "  <tbody>\n",
              "    <tr>\n",
              "      <th>0</th>\n",
              "      <td>16</td>\n",
              "      <td>0.414287</td>\n",
              "      <td>0.346844</td>\n",
              "    </tr>\n",
              "    <tr>\n",
              "      <th>1</th>\n",
              "      <td>19</td>\n",
              "      <td>0.502964</td>\n",
              "      <td>0.358525</td>\n",
              "    </tr>\n",
              "    <tr>\n",
              "      <th>2</th>\n",
              "      <td>22</td>\n",
              "      <td>0.611495</td>\n",
              "      <td>0.361338</td>\n",
              "    </tr>\n",
              "  </tbody>\n",
              "</table>\n",
              "</div>"
            ],
            "text/plain": [
              "   max_depth  r2_train   r2_test\n",
              "0         16  0.414287  0.346844\n",
              "1         19  0.502964  0.358525\n",
              "2         22  0.611495  0.361338"
            ]
          },
          "metadata": {},
          "execution_count": 22
        }
      ]
    },
    {
      "cell_type": "code",
      "metadata": {
        "colab": {
          "base_uri": "https://localhost:8080/"
        },
        "id": "ji665shPTxjB",
        "outputId": "71b04429-c36c-48de-fd5c-7d8ccb1eda8c"
      },
      "source": [
        "fila4 = []\n",
        "\n",
        "for i in range(22,29,2):\n",
        "  print(i)\n",
        "  regr1 = RandomForestRegressor(max_depth=i,random_state=42)\n",
        "  fregr1 = regr1.fit(X_train,y_train)\n",
        "  r2_train = fregr1.score(X_train, y_train)\n",
        "  r2_test = fregr1.score(X_test, y_test)\n",
        "  fila4.append([i,r2_train,r2_test])"
      ],
      "execution_count": null,
      "outputs": [
        {
          "output_type": "stream",
          "name": "stdout",
          "text": [
            "22\n",
            "24\n",
            "26\n",
            "28\n"
          ]
        }
      ]
    },
    {
      "cell_type": "code",
      "metadata": {
        "colab": {
          "base_uri": "https://localhost:8080/",
          "height": 173
        },
        "id": "dzOpozJ1UJFY",
        "outputId": "aa286a41-36cf-4867-8240-95a361758be1"
      },
      "source": [
        "scores_profundidad = pd.DataFrame(fila4, columns=[\"max_depth\",\"r2_train\",\"r2_test\"])\n",
        "scores_profundidad"
      ],
      "execution_count": null,
      "outputs": [
        {
          "output_type": "execute_result",
          "data": {
            "text/html": [
              "<div>\n",
              "<style scoped>\n",
              "    .dataframe tbody tr th:only-of-type {\n",
              "        vertical-align: middle;\n",
              "    }\n",
              "\n",
              "    .dataframe tbody tr th {\n",
              "        vertical-align: top;\n",
              "    }\n",
              "\n",
              "    .dataframe thead th {\n",
              "        text-align: right;\n",
              "    }\n",
              "</style>\n",
              "<table border=\"1\" class=\"dataframe\">\n",
              "  <thead>\n",
              "    <tr style=\"text-align: right;\">\n",
              "      <th></th>\n",
              "      <th>max_depth</th>\n",
              "      <th>r2_train</th>\n",
              "      <th>r2_test</th>\n",
              "    </tr>\n",
              "  </thead>\n",
              "  <tbody>\n",
              "    <tr>\n",
              "      <th>0</th>\n",
              "      <td>22</td>\n",
              "      <td>0.611495</td>\n",
              "      <td>0.361338</td>\n",
              "    </tr>\n",
              "    <tr>\n",
              "      <th>1</th>\n",
              "      <td>24</td>\n",
              "      <td>0.684338</td>\n",
              "      <td>0.358779</td>\n",
              "    </tr>\n",
              "    <tr>\n",
              "      <th>2</th>\n",
              "      <td>26</td>\n",
              "      <td>0.749253</td>\n",
              "      <td>0.353266</td>\n",
              "    </tr>\n",
              "    <tr>\n",
              "      <th>3</th>\n",
              "      <td>28</td>\n",
              "      <td>0.801416</td>\n",
              "      <td>0.346430</td>\n",
              "    </tr>\n",
              "  </tbody>\n",
              "</table>\n",
              "</div>"
            ],
            "text/plain": [
              "   max_depth  r2_train   r2_test\n",
              "0         22  0.611495  0.361338\n",
              "1         24  0.684338  0.358779\n",
              "2         26  0.749253  0.353266\n",
              "3         28  0.801416  0.346430"
            ]
          },
          "metadata": {},
          "execution_count": 24
        }
      ]
    },
    {
      "cell_type": "code",
      "metadata": {
        "id": "b2e4ICzjUNDC"
      },
      "source": [
        "fila5 = []\n",
        "\n",
        "for i in range(160,181,5):\n",
        "  regr3 = RandomForestRegressor(max_depth=22,n_estimators=i,random_state=42)\n",
        "  fregr3 = regr3.fit(X_train,y_train)\n",
        "  r2_train = fregr3.score(X_train, y_train)\n",
        "  r2_test = fregr3.score(X_test, y_test)\n",
        "  fila5.append([i,r2_train,r2_test])"
      ],
      "execution_count": null,
      "outputs": []
    },
    {
      "cell_type": "code",
      "metadata": {
        "colab": {
          "base_uri": "https://localhost:8080/",
          "height": 204
        },
        "id": "Tb4ZQtraUgi0",
        "outputId": "2dbe0201-e312-4ea9-a66e-2e85d617d633"
      },
      "source": [
        "scores_n_estimators = pd.DataFrame(fila5, columns=[\"n_estimators\",\"r2_train\",\"r2_test\"])\n",
        "scores_n_estimators"
      ],
      "execution_count": null,
      "outputs": [
        {
          "output_type": "execute_result",
          "data": {
            "text/html": [
              "<div>\n",
              "<style scoped>\n",
              "    .dataframe tbody tr th:only-of-type {\n",
              "        vertical-align: middle;\n",
              "    }\n",
              "\n",
              "    .dataframe tbody tr th {\n",
              "        vertical-align: top;\n",
              "    }\n",
              "\n",
              "    .dataframe thead th {\n",
              "        text-align: right;\n",
              "    }\n",
              "</style>\n",
              "<table border=\"1\" class=\"dataframe\">\n",
              "  <thead>\n",
              "    <tr style=\"text-align: right;\">\n",
              "      <th></th>\n",
              "      <th>n_estimators</th>\n",
              "      <th>r2_train</th>\n",
              "      <th>r2_test</th>\n",
              "    </tr>\n",
              "  </thead>\n",
              "  <tbody>\n",
              "    <tr>\n",
              "      <th>0</th>\n",
              "      <td>160</td>\n",
              "      <td>0.612101</td>\n",
              "      <td>0.362257</td>\n",
              "    </tr>\n",
              "    <tr>\n",
              "      <th>1</th>\n",
              "      <td>165</td>\n",
              "      <td>0.612227</td>\n",
              "      <td>0.362288</td>\n",
              "    </tr>\n",
              "    <tr>\n",
              "      <th>2</th>\n",
              "      <td>170</td>\n",
              "      <td>0.612234</td>\n",
              "      <td>0.362339</td>\n",
              "    </tr>\n",
              "    <tr>\n",
              "      <th>3</th>\n",
              "      <td>175</td>\n",
              "      <td>0.612304</td>\n",
              "      <td>0.362399</td>\n",
              "    </tr>\n",
              "    <tr>\n",
              "      <th>4</th>\n",
              "      <td>180</td>\n",
              "      <td>0.612323</td>\n",
              "      <td>0.362430</td>\n",
              "    </tr>\n",
              "  </tbody>\n",
              "</table>\n",
              "</div>"
            ],
            "text/plain": [
              "   n_estimators  r2_train   r2_test\n",
              "0           160  0.612101  0.362257\n",
              "1           165  0.612227  0.362288\n",
              "2           170  0.612234  0.362339\n",
              "3           175  0.612304  0.362399\n",
              "4           180  0.612323  0.362430"
            ]
          },
          "metadata": {},
          "execution_count": 28
        }
      ]
    },
    {
      "cell_type": "code",
      "metadata": {
        "id": "nA0-PEDw2z7U"
      },
      "source": [
        "# n_estimators\n",
        "  # 190 = 0.36706609620299324 \n",
        "  # 200 = 0.36714470270550004 \n",
        "  # 220 = 0.36730170717679556\n",
        "  # 250 = 0.36746217335807163"
      ],
      "execution_count": null,
      "outputs": []
    },
    {
      "cell_type": "markdown",
      "metadata": {
        "id": "W-syT4Aw26bo"
      },
      "source": [
        "Corro modelo RF optimo"
      ]
    },
    {
      "cell_type": "code",
      "metadata": {
        "id": "I6x0gcBzsxUg",
        "colab": {
          "base_uri": "https://localhost:8080/"
        },
        "outputId": "cc719446-3ee5-4ed7-ae92-718469475f1e"
      },
      "source": [
        "forest = RandomForestRegressor(max_depth=22,n_estimators=250,random_state=42) \n",
        "forest.fit(X_train, y_train)"
      ],
      "execution_count": null,
      "outputs": [
        {
          "output_type": "execute_result",
          "data": {
            "text/plain": [
              "RandomForestRegressor(bootstrap=True, ccp_alpha=0.0, criterion='mse',\n",
              "                      max_depth=22, max_features='auto', max_leaf_nodes=None,\n",
              "                      max_samples=None, min_impurity_decrease=0.0,\n",
              "                      min_impurity_split=None, min_samples_leaf=1,\n",
              "                      min_samples_split=2, min_weight_fraction_leaf=0.0,\n",
              "                      n_estimators=250, n_jobs=None, oob_score=False,\n",
              "                      random_state=42, verbose=0, warm_start=False)"
            ]
          },
          "metadata": {},
          "execution_count": 16
        }
      ]
    },
    {
      "cell_type": "code",
      "metadata": {
        "colab": {
          "base_uri": "https://localhost:8080/"
        },
        "id": "Ye_K6SLt4h-Z",
        "outputId": "5dc0a485-1e6a-482e-b4c8-da856da3657f"
      },
      "source": [
        "forest.score(X_test, y_test)"
      ],
      "execution_count": null,
      "outputs": [
        {
          "output_type": "execute_result",
          "data": {
            "text/plain": [
              "0.36746217335807163"
            ]
          },
          "metadata": {},
          "execution_count": 17
        }
      ]
    },
    {
      "cell_type": "code",
      "metadata": {
        "colab": {
          "base_uri": "https://localhost:8080/"
        },
        "id": "QmSejSml4xgK",
        "outputId": "0949e5f4-5aaf-4d1c-a133-ba1feddfb228"
      },
      "source": [
        "forest.score(X_train, y_train)"
      ],
      "execution_count": null,
      "outputs": [
        {
          "output_type": "execute_result",
          "data": {
            "text/plain": [
              "0.593084179727007"
            ]
          },
          "metadata": {},
          "execution_count": 26
        }
      ]
    },
    {
      "cell_type": "code",
      "metadata": {
        "id": "OkxhTGU9vFbQ"
      },
      "source": [
        "# con todas 0.3624296251020177\n",
        "# sin end year 0.36694465866068193\n",
        "# sin end y episode 0.36598573416705504\n",
        "# sin video game y end year 0.3669752413137337 (180) / 0.36706609620299324 (190) / (200) 0.36714470270550004 / (220) 0.36730170717679556/ (250) 0.36746217335807163\n",
        "# sin end, game y isAdult 0.36543032783674956\n",
        "# sin end game y season 0.3450829550304416\n",
        "\n"
      ],
      "execution_count": null,
      "outputs": []
    },
    {
      "cell_type": "code",
      "metadata": {
        "id": "rt7xgDMMHBjX"
      },
      "source": [
        "resultados=pd.read_csv('/content/gdrive/MyDrive/Colab Notebooks/Prueba_resultados.csv',sep=',')"
      ],
      "execution_count": null,
      "outputs": []
    },
    {
      "cell_type": "code",
      "metadata": {
        "colab": {
          "base_uri": "https://localhost:8080/"
        },
        "id": "Do54dey1HXHb",
        "outputId": "59759752-3dd7-4492-e7ec-ab528c93b355"
      },
      "source": [
        "resultados.info()"
      ],
      "execution_count": null,
      "outputs": [
        {
          "output_type": "stream",
          "name": "stdout",
          "text": [
            "<class 'pandas.core.frame.DataFrame'>\n",
            "RangeIndex: 321932 entries, 0 to 321931\n",
            "Data columns (total 24 columns):\n",
            " #   Column                  Non-Null Count   Dtype\n",
            "---  ------                  --------------   -----\n",
            " 0   Unnamed: 0              321932 non-null  int64\n",
            " 1   numVotes                321932 non-null  int64\n",
            " 2   isAdult                 321932 non-null  int64\n",
            " 3   startYear               321932 non-null  int64\n",
            " 4   endYear                 321932 non-null  int64\n",
            " 5   runtimeMinutes          321932 non-null  int64\n",
            " 6   seasonNumber            321932 non-null  int64\n",
            " 7   episodeNumber           321932 non-null  int64\n",
            " 8   id                      321932 non-null  int64\n",
            " 9   high_director           321932 non-null  int64\n",
            " 10  low_director            321932 non-null  int64\n",
            " 11  high_writer             321932 non-null  int64\n",
            " 12  low_writer              321932 non-null  int64\n",
            " 13  high_genre              321932 non-null  int64\n",
            " 14  titleType_movie         321932 non-null  int64\n",
            " 15  titleType_short         321932 non-null  int64\n",
            " 16  titleType_tvEpisode     321932 non-null  int64\n",
            " 17  titleType_tvMiniSeries  321932 non-null  int64\n",
            " 18  titleType_tvMovie       321932 non-null  int64\n",
            " 19  titleType_tvSeries      321932 non-null  int64\n",
            " 20  titleType_tvShort       321932 non-null  int64\n",
            " 21  titleType_tvSpecial     321932 non-null  int64\n",
            " 22  titleType_video         321932 non-null  int64\n",
            " 23  titleType_videoGame     321932 non-null  int64\n",
            "dtypes: int64(24)\n",
            "memory usage: 58.9 MB\n"
          ]
        }
      ]
    },
    {
      "cell_type": "code",
      "metadata": {
        "id": "9v5FG7zTHdoo"
      },
      "source": [
        "df_resultados = resultados[['numVotes','isAdult','startYear', 'runtimeMinutes', 'seasonNumber', 'episodeNumber','high_director','low_director','high_writer','low_writer','high_genre', 'titleType_movie', 'titleType_short', 'titleType_tvEpisode', 'titleType_tvMiniSeries', 'titleType_tvMovie','titleType_tvSeries','titleType_tvShort','titleType_tvSpecial',\n",
        "                  'titleType_video']]"
      ],
      "execution_count": null,
      "outputs": []
    },
    {
      "cell_type": "code",
      "metadata": {
        "id": "WffJFBBBHk5B"
      },
      "source": [
        "pred_res = extra.predict(df_resultados)"
      ],
      "execution_count": null,
      "outputs": []
    },
    {
      "cell_type": "code",
      "metadata": {
        "id": "fKzDWBdLH-rV"
      },
      "source": [
        "output = pd.DataFrame(data={\"averageRating\": pred_res}).astype(str)\n",
        "output.index = resultados.id\n",
        "output.to_csv(\"prediccion_extraTrees2.csv\", sep=',',index=True,  index_label='id')"
      ],
      "execution_count": null,
      "outputs": []
    }
  ]
}