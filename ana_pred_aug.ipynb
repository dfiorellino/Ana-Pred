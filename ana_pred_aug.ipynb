{
  "nbformat": 4,
  "nbformat_minor": 0,
  "metadata": {
    "colab": {
      "name": "FINAL_ANA_PRED.ipynb",
      "provenance": [],
      "authorship_tag": "ABX9TyORsI2n+Ixb7EStsLK6ARFR",
      "include_colab_link": true
    },
    "kernelspec": {
      "name": "python3",
      "display_name": "Python 3"
    },
    "language_info": {
      "name": "python"
    }
  },
  "cells": [
    {
      "cell_type": "markdown",
      "metadata": {
        "id": "view-in-github",
        "colab_type": "text"
      },
      "source": [
        "<a href=\"https://colab.research.google.com/github/dfiorellino/Ana-Pred/blob/main/ana_pred_aug.ipynb\" target=\"_parent\"><img src=\"https://colab.research.google.com/assets/colab-badge.svg\" alt=\"Open In Colab\"/></a>"
      ]
    },
    {
      "cell_type": "code",
      "execution_count": 1,
      "metadata": {
        "id": "7y-vCsKCWn-B"
      },
      "outputs": [],
      "source": [
        "import pandas as pd\n",
        "import numpy as np\n",
        "from sklearn.model_selection import train_test_split, RandomizedSearchCV, GridSearchCV\n",
        "from sklearn.ensemble import RandomForestRegressor, ExtraTreesRegressor\n",
        "from sklearn.metrics import accuracy_score, mean_absolute_error\n",
        "from sklearn import preprocessing\n",
        "from sklearn.metrics import r2_score\n",
        "from sklearn.preprocessing import scale\n",
        "from math import *"
      ]
    },
    {
      "cell_type": "code",
      "source": [
        "from google.colab import drive\n",
        "drive.mount('/content/gdrive')"
      ],
      "metadata": {
        "colab": {
          "base_uri": "https://localhost:8080/"
        },
        "id": "wXwo_zfvWu9m",
        "outputId": "cdd26286-4175-475c-c113-507d610e9fee"
      },
      "execution_count": 2,
      "outputs": [
        {
          "output_type": "stream",
          "name": "stdout",
          "text": [
            "Mounted at /content/gdrive\n"
          ]
        }
      ]
    },
    {
      "cell_type": "code",
      "source": [
        "base =pd.read_csv('/content/gdrive/MyDrive/Colab Notebooks/Prueba_final.csv',sep=',')"
      ],
      "metadata": {
        "id": "TytVXt_rW0XJ"
      },
      "execution_count": 3,
      "outputs": []
    },
    {
      "cell_type": "code",
      "source": [
        "base.info()"
      ],
      "metadata": {
        "colab": {
          "base_uri": "https://localhost:8080/"
        },
        "id": "EN-9Abu3XDDV",
        "outputId": "ae74c5a4-5898-4e50-d132-f75bb5ec9924"
      },
      "execution_count": 4,
      "outputs": [
        {
          "output_type": "stream",
          "name": "stdout",
          "text": [
            "<class 'pandas.core.frame.DataFrame'>\n",
            "RangeIndex: 19158 entries, 0 to 19157\n",
            "Data columns (total 19 columns):\n",
            " #   Column                                Non-Null Count  Dtype  \n",
            "---  ------                                --------------  -----  \n",
            " 0   Unnamed: 0                            19158 non-null  int64  \n",
            " 1   city_development_index                19158 non-null  float64\n",
            " 2   relevent_experience                   19158 non-null  int64  \n",
            " 3   education_level                       19158 non-null  int64  \n",
            " 4   experience                            19158 non-null  int64  \n",
            " 5   last_new_job                          19158 non-null  int64  \n",
            " 6   training_hours                        19158 non-null  int64  \n",
            " 7   target                                19158 non-null  int64  \n",
            " 8   high_major_discipline                 19158 non-null  int64  \n",
            " 9   company_size_high_company_size        19158 non-null  int64  \n",
            " 10  company_size_low_company_size         19158 non-null  int64  \n",
            " 11  company_type_high_company_type        19158 non-null  int64  \n",
            " 12  company_type_low_company_type         19158 non-null  int64  \n",
            " 13  gender_Female                         19158 non-null  int64  \n",
            " 14  gender_Male                           19158 non-null  int64  \n",
            " 15  gender_Other                          19158 non-null  int64  \n",
            " 16  city                                  19158 non-null  int64  \n",
            " 17  enrolled_university_Full time course  19158 non-null  int64  \n",
            " 18  enrolled_university_no_enrollment     19158 non-null  int64  \n",
            "dtypes: float64(1), int64(18)\n",
            "memory usage: 2.8 MB\n"
          ]
        }
      ]
    },
    {
      "cell_type": "code",
      "source": [
        "base.head()"
      ],
      "metadata": {
        "colab": {
          "base_uri": "https://localhost:8080/",
          "height": 241
        },
        "id": "IMJ2HhuIXGWC",
        "outputId": "e431637f-db7d-4f9b-f077-4b06c4945baf"
      },
      "execution_count": 5,
      "outputs": [
        {
          "output_type": "execute_result",
          "data": {
            "text/html": [
              "<div>\n",
              "<style scoped>\n",
              "    .dataframe tbody tr th:only-of-type {\n",
              "        vertical-align: middle;\n",
              "    }\n",
              "\n",
              "    .dataframe tbody tr th {\n",
              "        vertical-align: top;\n",
              "    }\n",
              "\n",
              "    .dataframe thead th {\n",
              "        text-align: right;\n",
              "    }\n",
              "</style>\n",
              "<table border=\"1\" class=\"dataframe\">\n",
              "  <thead>\n",
              "    <tr style=\"text-align: right;\">\n",
              "      <th></th>\n",
              "      <th>Unnamed: 0</th>\n",
              "      <th>city_development_index</th>\n",
              "      <th>relevent_experience</th>\n",
              "      <th>education_level</th>\n",
              "      <th>experience</th>\n",
              "      <th>last_new_job</th>\n",
              "      <th>training_hours</th>\n",
              "      <th>target</th>\n",
              "      <th>high_major_discipline</th>\n",
              "      <th>company_size_high_company_size</th>\n",
              "      <th>company_size_low_company_size</th>\n",
              "      <th>company_type_high_company_type</th>\n",
              "      <th>company_type_low_company_type</th>\n",
              "      <th>gender_Female</th>\n",
              "      <th>gender_Male</th>\n",
              "      <th>gender_Other</th>\n",
              "      <th>city</th>\n",
              "      <th>enrolled_university_Full time course</th>\n",
              "      <th>enrolled_university_no_enrollment</th>\n",
              "    </tr>\n",
              "  </thead>\n",
              "  <tbody>\n",
              "    <tr>\n",
              "      <th>0</th>\n",
              "      <td>1</td>\n",
              "      <td>0.920</td>\n",
              "      <td>1</td>\n",
              "      <td>3</td>\n",
              "      <td>21</td>\n",
              "      <td>1</td>\n",
              "      <td>36</td>\n",
              "      <td>1</td>\n",
              "      <td>1</td>\n",
              "      <td>1</td>\n",
              "      <td>0</td>\n",
              "      <td>1</td>\n",
              "      <td>0</td>\n",
              "      <td>0</td>\n",
              "      <td>1</td>\n",
              "      <td>0</td>\n",
              "      <td>103</td>\n",
              "      <td>0</td>\n",
              "      <td>1</td>\n",
              "    </tr>\n",
              "    <tr>\n",
              "      <th>1</th>\n",
              "      <td>2</td>\n",
              "      <td>0.776</td>\n",
              "      <td>0</td>\n",
              "      <td>3</td>\n",
              "      <td>15</td>\n",
              "      <td>5</td>\n",
              "      <td>47</td>\n",
              "      <td>0</td>\n",
              "      <td>1</td>\n",
              "      <td>0</td>\n",
              "      <td>1</td>\n",
              "      <td>0</td>\n",
              "      <td>1</td>\n",
              "      <td>0</td>\n",
              "      <td>1</td>\n",
              "      <td>0</td>\n",
              "      <td>40</td>\n",
              "      <td>0</td>\n",
              "      <td>1</td>\n",
              "    </tr>\n",
              "    <tr>\n",
              "      <th>2</th>\n",
              "      <td>3</td>\n",
              "      <td>0.624</td>\n",
              "      <td>0</td>\n",
              "      <td>3</td>\n",
              "      <td>5</td>\n",
              "      <td>0</td>\n",
              "      <td>83</td>\n",
              "      <td>0</td>\n",
              "      <td>1</td>\n",
              "      <td>1</td>\n",
              "      <td>0</td>\n",
              "      <td>1</td>\n",
              "      <td>0</td>\n",
              "      <td>0</td>\n",
              "      <td>0</td>\n",
              "      <td>0</td>\n",
              "      <td>21</td>\n",
              "      <td>1</td>\n",
              "      <td>0</td>\n",
              "    </tr>\n",
              "    <tr>\n",
              "      <th>3</th>\n",
              "      <td>4</td>\n",
              "      <td>0.789</td>\n",
              "      <td>0</td>\n",
              "      <td>3</td>\n",
              "      <td>0</td>\n",
              "      <td>0</td>\n",
              "      <td>52</td>\n",
              "      <td>1</td>\n",
              "      <td>1</td>\n",
              "      <td>1</td>\n",
              "      <td>0</td>\n",
              "      <td>0</td>\n",
              "      <td>1</td>\n",
              "      <td>0</td>\n",
              "      <td>0</td>\n",
              "      <td>0</td>\n",
              "      <td>115</td>\n",
              "      <td>0</td>\n",
              "      <td>1</td>\n",
              "    </tr>\n",
              "    <tr>\n",
              "      <th>4</th>\n",
              "      <td>5</td>\n",
              "      <td>0.767</td>\n",
              "      <td>1</td>\n",
              "      <td>4</td>\n",
              "      <td>21</td>\n",
              "      <td>4</td>\n",
              "      <td>8</td>\n",
              "      <td>0</td>\n",
              "      <td>1</td>\n",
              "      <td>0</td>\n",
              "      <td>1</td>\n",
              "      <td>0</td>\n",
              "      <td>1</td>\n",
              "      <td>0</td>\n",
              "      <td>1</td>\n",
              "      <td>0</td>\n",
              "      <td>162</td>\n",
              "      <td>0</td>\n",
              "      <td>1</td>\n",
              "    </tr>\n",
              "  </tbody>\n",
              "</table>\n",
              "</div>"
            ],
            "text/plain": [
              "   Unnamed: 0  ...  enrolled_university_no_enrollment\n",
              "0           1  ...                                  1\n",
              "1           2  ...                                  1\n",
              "2           3  ...                                  0\n",
              "3           4  ...                                  1\n",
              "4           5  ...                                  1\n",
              "\n",
              "[5 rows x 19 columns]"
            ]
          },
          "metadata": {},
          "execution_count": 5
        }
      ]
    },
    {
      "cell_type": "code",
      "source": [
        "import matplotlib.pyplot as plt\n",
        "import seaborn as sns\n",
        "plt.figure(figsize =(24,12))\n",
        "sns.heatmap(base.corr(), annot = True)"
      ],
      "metadata": {
        "colab": {
          "base_uri": "https://localhost:8080/",
          "height": 891
        },
        "id": "gjbRO9o_Z16U",
        "outputId": "50519874-87b0-49e2-e15b-7749ab6a47e6"
      },
      "execution_count": 22,
      "outputs": [
        {
          "output_type": "execute_result",
          "data": {
            "text/plain": [
              "<matplotlib.axes._subplots.AxesSubplot at 0x7f16ae946cd0>"
            ]
          },
          "metadata": {},
          "execution_count": 22
        },
        {
          "output_type": "display_data",
          "data": {
            "image/png": "[encoded data removed]",
            "text/plain": [
              "<Figure size 1728x864 with 2 Axes>"
            ]
          },
          "metadata": {
            "needs_background": "light"
          }
        }
      ]
    },
    {
      "cell_type": "code",
      "source": [
        "y_base =base['target']\n",
        "\n",
        "x_base =base[['city_development_index','relevent_experience','education_level', 'experience','last_new_job', 'training_hours', 'high_major_discipline', 'company_size_high_company_size', 'company_size_low_company_size','company_type_low_company_type','company_type_high_company_type', 'enrolled_university_Full time course','enrolled_university_no_enrollment','city']]"
      ],
      "metadata": {
        "id": "iNiSF27RYD3S"
      },
      "execution_count": 338,
      "outputs": []
    },
    {
      "cell_type": "markdown",
      "source": [
        "BALANCEO DE CLASES"
      ],
      "metadata": {
        "id": "Cbn4QXKdcNZO"
      }
    },
    {
      "cell_type": "code",
      "source": [
        "from imblearn.over_sampling import SMOTE\n",
        "\n",
        "sm = SMOTE(random_state=27)\n",
        "x_base, y_base = sm.fit_resample(x_base, y_base)"
      ],
      "metadata": {
        "id": "otozJDjvXJty"
      },
      "execution_count": 339,
      "outputs": []
    },
    {
      "cell_type": "code",
      "source": [
        "y_base.value_counts()"
      ],
      "metadata": {
        "colab": {
          "base_uri": "https://localhost:8080/"
        },
        "id": "8DFmzQScYeWh",
        "outputId": "6df0e925-02ce-444a-e0da-7e3b9e312685"
      },
      "execution_count": 247,
      "outputs": [
        {
          "output_type": "execute_result",
          "data": {
            "text/plain": [
              "1    14381\n",
              "0    14381\n",
              "Name: target, dtype: int64"
            ]
          },
          "metadata": {},
          "execution_count": 247
        }
      ]
    },
    {
      "cell_type": "code",
      "source": [
        "x_base.info()"
      ],
      "metadata": {
        "colab": {
          "base_uri": "https://localhost:8080/"
        },
        "id": "P4Dg-owOZCRN",
        "outputId": "1aa341ef-e31d-488e-f5ec-9c961e6eb3a3"
      },
      "execution_count": 248,
      "outputs": [
        {
          "output_type": "stream",
          "name": "stdout",
          "text": [
            "<class 'pandas.core.frame.DataFrame'>\n",
            "RangeIndex: 28762 entries, 0 to 28761\n",
            "Data columns (total 14 columns):\n",
            " #   Column                                Non-Null Count  Dtype  \n",
            "---  ------                                --------------  -----  \n",
            " 0   city_development_index                28762 non-null  float64\n",
            " 1   relevent_experience                   28762 non-null  int64  \n",
            " 2   education_level                       28762 non-null  int64  \n",
            " 3   experience                            28762 non-null  int64  \n",
            " 4   last_new_job                          28762 non-null  int64  \n",
            " 5   training_hours                        28762 non-null  int64  \n",
            " 6   high_major_discipline                 28762 non-null  int64  \n",
            " 7   company_size_high_company_size        28762 non-null  int64  \n",
            " 8   company_size_low_company_size         28762 non-null  int64  \n",
            " 9   company_type_low_company_type         28762 non-null  int64  \n",
            " 10  company_type_high_company_type        28762 non-null  int64  \n",
            " 11  enrolled_university_Full time course  28762 non-null  int64  \n",
            " 12  enrolled_university_no_enrollment     28762 non-null  int64  \n",
            " 13  city                                  28762 non-null  int64  \n",
            "dtypes: float64(1), int64(13)\n",
            "memory usage: 3.1 MB\n"
          ]
        }
      ]
    },
    {
      "cell_type": "markdown",
      "source": [
        "PARTICIONO LA BASE (70-30)"
      ],
      "metadata": {
        "id": "BV5ZsdDLcRX8"
      }
    },
    {
      "cell_type": "code",
      "source": [
        "from sklearn.model_selection import train_test_split   # testing and splitting \n",
        "x_train, x_test, y_train,y_test = train_test_split(x_base,y_base,test_size = 0.3,random_state = 0 )"
      ],
      "metadata": {
        "id": "ADVlo8zBZk8O"
      },
      "execution_count": 341,
      "outputs": []
    },
    {
      "cell_type": "code",
      "source": [
        "print(\"Length of Training Data: {}\".format(len(x_train)))\n",
        "print(\"Length of Testing Data: {}\".format(len(x_test)))"
      ],
      "metadata": {
        "colab": {
          "base_uri": "https://localhost:8080/"
        },
        "id": "_6bZkQGfarQg",
        "outputId": "28695c90-0175-435e-8104-8013b4cfdf37"
      },
      "execution_count": 346,
      "outputs": [
        {
          "output_type": "stream",
          "name": "stdout",
          "text": [
            "Length of Training Data: 20133\n",
            "Length of Testing Data: 8629\n"
          ]
        }
      ]
    },
    {
      "cell_type": "markdown",
      "source": [
        "REGRESION "
      ],
      "metadata": {
        "id": "Ac9hVXMkcU4P"
      }
    },
    {
      "cell_type": "code",
      "source": [
        "from sklearn.linear_model import LogisticRegression\n",
        "classifier_logreg = LogisticRegression(solver='liblinear', random_state=42)\n",
        "classifier_logreg.fit(x_train, y_train)"
      ],
      "metadata": {
        "colab": {
          "base_uri": "https://localhost:8080/"
        },
        "id": "85tHvVefasdR",
        "outputId": "00daf0bd-f601-41cd-ce37-d4b24dff8ba8"
      },
      "execution_count": 251,
      "outputs": [
        {
          "output_type": "execute_result",
          "data": {
            "text/plain": [
              "LogisticRegression(random_state=42, solver='liblinear')"
            ]
          },
          "metadata": {},
          "execution_count": 251
        }
      ]
    },
    {
      "cell_type": "code",
      "source": [
        "y_pred = classifier_logreg.predict(x_test)\n",
        "y_pred"
      ],
      "metadata": {
        "colab": {
          "base_uri": "https://localhost:8080/"
        },
        "id": "_KMj6TsAa5ND",
        "outputId": "65cf4759-fe5d-4222-f053-5a6e0be0d847"
      },
      "execution_count": 369,
      "outputs": [
        {
          "output_type": "execute_result",
          "data": {
            "text/plain": [
              "array([1, 0, 1, ..., 0, 0, 1])"
            ]
          },
          "metadata": {},
          "execution_count": 369
        }
      ]
    },
    {
      "cell_type": "code",
      "source": [
        "from sklearn.metrics import accuracy_score\n",
        "print(\"Accuracy Score: {}\".format(accuracy_score(y_test,y_pred)))"
      ],
      "metadata": {
        "colab": {
          "base_uri": "https://localhost:8080/"
        },
        "id": "6M0KerPYa7pX",
        "outputId": "3ea972fa-b38f-4431-9eb0-7bc2d5507b7f"
      },
      "execution_count": 253,
      "outputs": [
        {
          "output_type": "stream",
          "name": "stdout",
          "text": [
            "Accuracy Score: 0.7457411055742265\n"
          ]
        }
      ]
    },
    {
      "cell_type": "markdown",
      "source": [
        "Confusion matrix"
      ],
      "metadata": {
        "id": "ZgaaviR9bFdE"
      }
    },
    {
      "cell_type": "code",
      "source": [
        "from sklearn.metrics import plot_confusion_matrix\n",
        "plot_confusion_matrix(classifier_logreg, x_test,y_test)"
      ],
      "metadata": {
        "colab": {
          "base_uri": "https://localhost:8080/",
          "height": 380
        },
        "id": "-zZFf_2FbE_i",
        "outputId": "f033b480-41e4-427c-ae1f-16652941146f"
      },
      "execution_count": 254,
      "outputs": [
        {
          "output_type": "stream",
          "name": "stderr",
          "text": [
            "/usr/local/lib/python3.7/dist-packages/sklearn/utils/deprecation.py:87: FutureWarning: Function plot_confusion_matrix is deprecated; Function `plot_confusion_matrix` is deprecated in 1.0 and will be removed in 1.2. Use one of the class methods: ConfusionMatrixDisplay.from_predictions or ConfusionMatrixDisplay.from_estimator.\n",
            "  warnings.warn(msg, category=FutureWarning)\n"
          ]
        },
        {
          "output_type": "execute_result",
          "data": {
            "text/plain": [
              "<sklearn.metrics._plot.confusion_matrix.ConfusionMatrixDisplay at 0x7f169a20c950>"
            ]
          },
          "metadata": {},
          "execution_count": 254
        },
        {
          "output_type": "display_data",
          "data": {
            "image/png": "[encoded data removed]",
            "text/plain": [
              "<Figure size 360x360 with 2 Axes>"
            ]
          },
          "metadata": {
            "needs_background": "light"
          }
        }
      ]
    },
    {
      "cell_type": "markdown",
      "source": [
        "Curva ROC"
      ],
      "metadata": {
        "id": "oMZv_Mo9jfUb"
      }
    },
    {
      "cell_type": "code",
      "source": [
        "y_pred_logreg_proba = classifier_logreg.predict_proba(x_test)\n",
        "from sklearn.metrics import roc_curve\n",
        "fpr, tpr, thresholds = roc_curve(y_test, y_pred_logreg_proba[:,1])\n",
        "plt.figure(figsize=(6,4))\n",
        "plt.plot(fpr,tpr,'-g',linewidth=1)\n",
        "plt.plot([0,1], [0,1], 'k--' )\n",
        "plt.title('ROC curve for Logistic Regression Model')\n",
        "plt.xlabel(\"False Positive Rate\")\n",
        "plt.ylabel('True Positive Rate')\n",
        "plt.show()"
      ],
      "metadata": {
        "colab": {
          "base_uri": "https://localhost:8080/",
          "height": 295
        },
        "id": "yQaBW-dPbnZa",
        "outputId": "47b0863d-9c2e-4579-8250-0d57eb2d2dfe"
      },
      "execution_count": 255,
      "outputs": [
        {
          "output_type": "display_data",
          "data": {
            "image/png": "[encoded data removed]",
            "text/plain": [
              "<Figure size 432x288 with 1 Axes>"
            ]
          },
          "metadata": {
            "needs_background": "light"
          }
        }
      ]
    },
    {
      "cell_type": "code",
      "source": [
        "from sklearn.metrics import roc_auc_score\n",
        "roc_auc_score(y_test, classifier_logreg.decision_function(x_test))"
      ],
      "metadata": {
        "colab": {
          "base_uri": "https://localhost:8080/"
        },
        "id": "pjMZqryThTCT",
        "outputId": "0f2ee9e7-e30e-49a5-bc33-cbd5c4a1f45b"
      },
      "execution_count": 381,
      "outputs": [
        {
          "output_type": "execute_result",
          "data": {
            "text/plain": [
              "0.8362048926903026"
            ]
          },
          "metadata": {},
          "execution_count": 381
        }
      ]
    },
    {
      "cell_type": "markdown",
      "source": [
        "Cross Validation"
      ],
      "metadata": {
        "id": "uOEZ11tsb2je"
      }
    },
    {
      "cell_type": "code",
      "source": [
        "from sklearn.model_selection import cross_val_score\n",
        "scores = cross_val_score(classifier_logreg, x_train, y_train, cv = 5, scoring='accuracy')\n",
        "print('Cross-validation scores:{}'.format(scores))\n",
        "print('Average cross-validation score: {}'.format(scores.mean()))"
      ],
      "metadata": {
        "colab": {
          "base_uri": "https://localhost:8080/"
        },
        "id": "JRmaQYssb_uN",
        "outputId": "ef8aaa28-b0d3-43bc-dd7a-36904281ce44"
      },
      "execution_count": 256,
      "outputs": [
        {
          "output_type": "stream",
          "name": "stdout",
          "text": [
            "Cross-validation scores:[0.7486963  0.73975664 0.74596474 0.73944362 0.7568306 ]\n",
            "Average cross-validation score: 0.7461383796482537\n"
          ]
        }
      ]
    },
    {
      "cell_type": "code",
      "source": [
        "from sklearn.model_selection import cross_val_score\n",
        "scores = cross_val_score(classifier_logreg, x_train, y_train, cv = 10, scoring='accuracy')\n",
        "print('Cross-validation scores:{}'.format(scores))\n",
        "print('Average cross-validation score: {}'.format(scores.mean()))"
      ],
      "metadata": {
        "colab": {
          "base_uri": "https://localhost:8080/"
        },
        "id": "mAn51uhfbzdS",
        "outputId": "44246a7e-0bdf-4025-d2b9-825e93d360b4"
      },
      "execution_count": 257,
      "outputs": [
        {
          "output_type": "stream",
          "name": "stdout",
          "text": [
            "Cross-validation scores:[0.73783515 0.7611718  0.74975174 0.73174367 0.73671138 0.75310482\n",
            " 0.73323398 0.74465971 0.76751118 0.74366617]\n",
            "Average cross-validation score: 0.7459389588331258\n"
          ]
        }
      ]
    },
    {
      "cell_type": "markdown",
      "source": [
        "RANDOM FOREST"
      ],
      "metadata": {
        "id": "AvwTIjOme6dw"
      }
    },
    {
      "cell_type": "code",
      "source": [
        "from sklearn.ensemble import RandomForestClassifier\n",
        "random_forest_model = RandomForestClassifier(max_depth=18, random_state= 42)"
      ],
      "metadata": {
        "id": "Y6JLIIxHdaZd"
      },
      "execution_count": 314,
      "outputs": []
    },
    {
      "cell_type": "code",
      "source": [
        "random_forest_model.fit(x_train, y_train)"
      ],
      "metadata": {
        "colab": {
          "base_uri": "https://localhost:8080/"
        },
        "id": "gNzNHFpedjgq",
        "outputId": "94df72f1-d6a2-42f4-9444-7256fe3d4f30"
      },
      "execution_count": 315,
      "outputs": [
        {
          "output_type": "execute_result",
          "data": {
            "text/plain": [
              "RandomForestClassifier(max_depth=18, random_state=42)"
            ]
          },
          "metadata": {},
          "execution_count": 315
        }
      ]
    },
    {
      "cell_type": "code",
      "source": [
        "random_forest_model.score(x_test, y_test)"
      ],
      "metadata": {
        "colab": {
          "base_uri": "https://localhost:8080/"
        },
        "id": "SphBfslaeBfp",
        "outputId": "857edc09-a64d-4d0a-b231-c4522878fc03"
      },
      "execution_count": 316,
      "outputs": [
        {
          "output_type": "execute_result",
          "data": {
            "text/plain": [
              "0.8346274191679222"
            ]
          },
          "metadata": {},
          "execution_count": 316
        }
      ]
    },
    {
      "cell_type": "code",
      "source": [
        "random_forest_model.score(x_train, y_train)"
      ],
      "metadata": {
        "colab": {
          "base_uri": "https://localhost:8080/"
        },
        "id": "48M4B736ey4Z",
        "outputId": "6916e831-8fab-45c6-8ff3-bf35cc7068f1"
      },
      "execution_count": 317,
      "outputs": [
        {
          "output_type": "execute_result",
          "data": {
            "text/plain": [
              "0.9583767943177868"
            ]
          },
          "metadata": {},
          "execution_count": 317
        }
      ]
    },
    {
      "cell_type": "code",
      "source": [
        "fila5 = []\n",
        "\n",
        "for i in range(14,29,2):\n",
        "  print(i)\n",
        "  rf = RandomForestClassifier(max_depth=i)\n",
        "  rf.fit(x_train,y_train)\n",
        "  r2_train = rf.score(x_train, y_train)\n",
        "  r2_test = rf.score(x_test, y_test)\n",
        "  fila5.append([i,r2_train,r2_test])"
      ],
      "metadata": {
        "colab": {
          "base_uri": "https://localhost:8080/"
        },
        "id": "CEk0O6wUVHYE",
        "outputId": "d3b0b71c-b798-421b-9a9d-e8a2d4280b5d"
      },
      "execution_count": 307,
      "outputs": [
        {
          "output_type": "stream",
          "name": "stdout",
          "text": [
            "14\n",
            "16\n",
            "18\n",
            "20\n",
            "22\n",
            "24\n",
            "26\n",
            "28\n"
          ]
        }
      ]
    },
    {
      "cell_type": "code",
      "source": [
        "scores_prof = pd.DataFrame(fila5, columns=[\"max_depth\",\"r2_train\",\"r2_test\"])\n",
        "scores_prof"
      ],
      "metadata": {
        "colab": {
          "base_uri": "https://localhost:8080/",
          "height": 297
        },
        "id": "wH96IkXMV2cp",
        "outputId": "1ab1b509-2333-44e8-fccb-8ec6e94c1679"
      },
      "execution_count": 308,
      "outputs": [
        {
          "output_type": "execute_result",
          "data": {
            "text/html": [
              "<div>\n",
              "<style scoped>\n",
              "    .dataframe tbody tr th:only-of-type {\n",
              "        vertical-align: middle;\n",
              "    }\n",
              "\n",
              "    .dataframe tbody tr th {\n",
              "        vertical-align: top;\n",
              "    }\n",
              "\n",
              "    .dataframe thead th {\n",
              "        text-align: right;\n",
              "    }\n",
              "</style>\n",
              "<table border=\"1\" class=\"dataframe\">\n",
              "  <thead>\n",
              "    <tr style=\"text-align: right;\">\n",
              "      <th></th>\n",
              "      <th>max_depth</th>\n",
              "      <th>r2_train</th>\n",
              "      <th>r2_test</th>\n",
              "    </tr>\n",
              "  </thead>\n",
              "  <tbody>\n",
              "    <tr>\n",
              "      <th>0</th>\n",
              "      <td>14</td>\n",
              "      <td>0.905330</td>\n",
              "      <td>0.832657</td>\n",
              "    </tr>\n",
              "    <tr>\n",
              "      <th>1</th>\n",
              "      <td>16</td>\n",
              "      <td>0.932698</td>\n",
              "      <td>0.834280</td>\n",
              "    </tr>\n",
              "    <tr>\n",
              "      <th>2</th>\n",
              "      <td>18</td>\n",
              "      <td>0.958973</td>\n",
              "      <td>0.839495</td>\n",
              "    </tr>\n",
              "    <tr>\n",
              "      <th>3</th>\n",
              "      <td>20</td>\n",
              "      <td>0.976010</td>\n",
              "      <td>0.835786</td>\n",
              "    </tr>\n",
              "    <tr>\n",
              "      <th>4</th>\n",
              "      <td>22</td>\n",
              "      <td>0.986043</td>\n",
              "      <td>0.836713</td>\n",
              "    </tr>\n",
              "    <tr>\n",
              "      <th>5</th>\n",
              "      <td>24</td>\n",
              "      <td>0.992748</td>\n",
              "      <td>0.836018</td>\n",
              "    </tr>\n",
              "    <tr>\n",
              "      <th>6</th>\n",
              "      <td>26</td>\n",
              "      <td>0.995679</td>\n",
              "      <td>0.836598</td>\n",
              "    </tr>\n",
              "    <tr>\n",
              "      <th>7</th>\n",
              "      <td>28</td>\n",
              "      <td>0.997069</td>\n",
              "      <td>0.835207</td>\n",
              "    </tr>\n",
              "  </tbody>\n",
              "</table>\n",
              "</div>"
            ],
            "text/plain": [
              "   max_depth  r2_train   r2_test\n",
              "0         14  0.905330  0.832657\n",
              "1         16  0.932698  0.834280\n",
              "2         18  0.958973  0.839495\n",
              "3         20  0.976010  0.835786\n",
              "4         22  0.986043  0.836713\n",
              "5         24  0.992748  0.836018\n",
              "6         26  0.995679  0.836598\n",
              "7         28  0.997069  0.835207"
            ]
          },
          "metadata": {},
          "execution_count": 308
        }
      ]
    },
    {
      "cell_type": "code",
      "source": [
        "plot_confusion_matrix(random_forest_model, x_test,y_test)"
      ],
      "metadata": {
        "colab": {
          "base_uri": "https://localhost:8080/",
          "height": 380
        },
        "id": "bPc-SB2De8JQ",
        "outputId": "0458d7af-65c4-44b9-f8d3-f230718f7eca"
      },
      "execution_count": 318,
      "outputs": [
        {
          "output_type": "stream",
          "name": "stderr",
          "text": [
            "/usr/local/lib/python3.7/dist-packages/sklearn/utils/deprecation.py:87: FutureWarning: Function plot_confusion_matrix is deprecated; Function `plot_confusion_matrix` is deprecated in 1.0 and will be removed in 1.2. Use one of the class methods: ConfusionMatrixDisplay.from_predictions or ConfusionMatrixDisplay.from_estimator.\n",
            "  warnings.warn(msg, category=FutureWarning)\n"
          ]
        },
        {
          "output_type": "execute_result",
          "data": {
            "text/plain": [
              "<sklearn.metrics._plot.confusion_matrix.ConfusionMatrixDisplay at 0x7f16998e64d0>"
            ]
          },
          "metadata": {},
          "execution_count": 318
        },
        {
          "output_type": "display_data",
          "data": {
            "image/png": "[encoded data removed]",
            "text/plain": [
              "<Figure size 360x360 with 2 Axes>"
            ]
          },
          "metadata": {
            "needs_background": "light"
          }
        }
      ]
    },
    {
      "cell_type": "markdown",
      "source": [
        "Descision trees\n"
      ],
      "metadata": {
        "id": "LNPkz46CfH7R"
      }
    },
    {
      "cell_type": "code",
      "source": [
        "from sklearn.tree import DecisionTreeClassifier"
      ],
      "metadata": {
        "id": "1kYmDjq_gZy-"
      },
      "execution_count": 68,
      "outputs": []
    },
    {
      "cell_type": "code",
      "source": [
        "dtree =DecisionTreeClassifier(max_depth=10)\n",
        "dtree.fit(x_train, y_train)"
      ],
      "metadata": {
        "colab": {
          "base_uri": "https://localhost:8080/"
        },
        "id": "2tz9uhG7gg12",
        "outputId": "a0ec741b-b384-4d22-ef4e-a140eaedbba6"
      },
      "execution_count": 349,
      "outputs": [
        {
          "output_type": "execute_result",
          "data": {
            "text/plain": [
              "DecisionTreeClassifier(max_depth=10)"
            ]
          },
          "metadata": {},
          "execution_count": 349
        }
      ]
    },
    {
      "cell_type": "code",
      "source": [
        "dtree.score(x_test, y_test)"
      ],
      "metadata": {
        "colab": {
          "base_uri": "https://localhost:8080/"
        },
        "id": "sWt3DGirgiLH",
        "outputId": "9053be40-5a9f-455c-c689-ea302d28f8de"
      },
      "execution_count": 350,
      "outputs": [
        {
          "output_type": "execute_result",
          "data": {
            "text/plain": [
              "0.8069301193649322"
            ]
          },
          "metadata": {},
          "execution_count": 350
        }
      ]
    },
    {
      "cell_type": "code",
      "source": [
        "dtree.score(x_train, y_train)"
      ],
      "metadata": {
        "colab": {
          "base_uri": "https://localhost:8080/"
        },
        "id": "sHZMF70EhCYW",
        "outputId": "63cc733d-0a50-4d5d-99e1-fa1d7f3aee01"
      },
      "execution_count": 351,
      "outputs": [
        {
          "output_type": "execute_result",
          "data": {
            "text/plain": [
              "0.8469676650275667"
            ]
          },
          "metadata": {},
          "execution_count": 351
        }
      ]
    },
    {
      "cell_type": "code",
      "source": [
        "plot_confusion_matrix(dtree, x_test,y_test)"
      ],
      "metadata": {
        "colab": {
          "base_uri": "https://localhost:8080/",
          "height": 380
        },
        "id": "LMvRH7Uxj6PX",
        "outputId": "ef4ffaf8-3a6d-407e-a675-4043ec651af8"
      },
      "execution_count": 352,
      "outputs": [
        {
          "output_type": "stream",
          "name": "stderr",
          "text": [
            "/usr/local/lib/python3.7/dist-packages/sklearn/utils/deprecation.py:87: FutureWarning: Function plot_confusion_matrix is deprecated; Function `plot_confusion_matrix` is deprecated in 1.0 and will be removed in 1.2. Use one of the class methods: ConfusionMatrixDisplay.from_predictions or ConfusionMatrixDisplay.from_estimator.\n",
            "  warnings.warn(msg, category=FutureWarning)\n"
          ]
        },
        {
          "output_type": "execute_result",
          "data": {
            "text/plain": [
              "<sklearn.metrics._plot.confusion_matrix.ConfusionMatrixDisplay at 0x7f169a20ce90>"
            ]
          },
          "metadata": {},
          "execution_count": 352
        },
        {
          "output_type": "display_data",
          "data": {
            "image/png": "[encoded data removed]",
            "text/plain": [
              "<Figure size 360x360 with 2 Axes>"
            ]
          },
          "metadata": {
            "needs_background": "light"
          }
        }
      ]
    },
    {
      "cell_type": "markdown",
      "source": [
        "EXTRA TREES"
      ],
      "metadata": {
        "id": "ENqDbd7dl41t"
      }
    },
    {
      "cell_type": "code",
      "source": [
        "from sklearn.ensemble import ExtraTreesClassifier\n",
        "Extra_T = ExtraTreesClassifier(max_depth = 20, n_estimators=150, random_state=42)\n",
        "Extra_T.fit(x_train, y_train)"
      ],
      "metadata": {
        "colab": {
          "base_uri": "https://localhost:8080/"
        },
        "id": "yurdX8yckALy",
        "outputId": "aa1674a4-129d-48eb-a9e5-0db96406b52f"
      },
      "execution_count": 279,
      "outputs": [
        {
          "output_type": "execute_result",
          "data": {
            "text/plain": [
              "ExtraTreesClassifier(max_depth=20, n_estimators=150, random_state=42)"
            ]
          },
          "metadata": {},
          "execution_count": 279
        }
      ]
    },
    {
      "cell_type": "code",
      "source": [
        "Extra_T.score(x_test,y_test)"
      ],
      "metadata": {
        "colab": {
          "base_uri": "https://localhost:8080/"
        },
        "id": "VAW19YKVl9aB",
        "outputId": "9299c8d0-1859-4841-97a8-c38f4d1fc4aa"
      },
      "execution_count": 280,
      "outputs": [
        {
          "output_type": "execute_result",
          "data": {
            "text/plain": [
              "0.8328890949125043"
            ]
          },
          "metadata": {},
          "execution_count": 280
        }
      ]
    },
    {
      "cell_type": "code",
      "source": [
        "Extra_T.score(x_train,y_train)"
      ],
      "metadata": {
        "colab": {
          "base_uri": "https://localhost:8080/"
        },
        "id": "u-DF-j3mmFN5",
        "outputId": "73d014e1-7be2-4047-bd35-7ad294a48263"
      },
      "execution_count": 281,
      "outputs": [
        {
          "output_type": "execute_result",
          "data": {
            "text/plain": [
              "0.9670689912084637"
            ]
          },
          "metadata": {},
          "execution_count": 281
        }
      ]
    },
    {
      "cell_type": "code",
      "source": [
        "fila = []\n",
        "\n",
        "for i in range(14,25,2):\n",
        "  print(i)\n",
        "  et = ExtraTreesClassifier(max_depth=i)\n",
        "  et.fit(x_train,y_train)\n",
        "  r2_train = et.score(x_train, y_train)\n",
        "  r2_test = et.score(x_test, y_test)\n",
        "  fila.append([i,r2_train,r2_test])"
      ],
      "metadata": {
        "colab": {
          "base_uri": "https://localhost:8080/"
        },
        "id": "TvypOlYZMVVz",
        "outputId": "3844a76e-e282-4666-809a-8e80f993858a"
      },
      "execution_count": 271,
      "outputs": [
        {
          "output_type": "stream",
          "name": "stdout",
          "text": [
            "14\n",
            "16\n",
            "18\n",
            "20\n",
            "22\n",
            "24\n"
          ]
        }
      ]
    },
    {
      "cell_type": "code",
      "source": [
        "scores_depth = pd.DataFrame(fila, columns=[\"max_depth\",\"r2_train\",\"r2_test\"])\n",
        "scores_depth"
      ],
      "metadata": {
        "colab": {
          "base_uri": "https://localhost:8080/",
          "height": 235
        },
        "id": "Uud-oSm8NEko",
        "outputId": "12060723-43de-4d98-ba87-999041fa125e"
      },
      "execution_count": 273,
      "outputs": [
        {
          "output_type": "execute_result",
          "data": {
            "text/html": [
              "<div>\n",
              "<style scoped>\n",
              "    .dataframe tbody tr th:only-of-type {\n",
              "        vertical-align: middle;\n",
              "    }\n",
              "\n",
              "    .dataframe tbody tr th {\n",
              "        vertical-align: top;\n",
              "    }\n",
              "\n",
              "    .dataframe thead th {\n",
              "        text-align: right;\n",
              "    }\n",
              "</style>\n",
              "<table border=\"1\" class=\"dataframe\">\n",
              "  <thead>\n",
              "    <tr style=\"text-align: right;\">\n",
              "      <th></th>\n",
              "      <th>max_depth</th>\n",
              "      <th>r2_train</th>\n",
              "      <th>r2_test</th>\n",
              "    </tr>\n",
              "  </thead>\n",
              "  <tbody>\n",
              "    <tr>\n",
              "      <th>0</th>\n",
              "      <td>14</td>\n",
              "      <td>0.885710</td>\n",
              "      <td>0.824893</td>\n",
              "    </tr>\n",
              "    <tr>\n",
              "      <th>1</th>\n",
              "      <td>16</td>\n",
              "      <td>0.916754</td>\n",
              "      <td>0.828369</td>\n",
              "    </tr>\n",
              "    <tr>\n",
              "      <th>2</th>\n",
              "      <td>18</td>\n",
              "      <td>0.946406</td>\n",
              "      <td>0.832426</td>\n",
              "    </tr>\n",
              "    <tr>\n",
              "      <th>3</th>\n",
              "      <td>20</td>\n",
              "      <td>0.967615</td>\n",
              "      <td>0.834512</td>\n",
              "    </tr>\n",
              "    <tr>\n",
              "      <th>4</th>\n",
              "      <td>22</td>\n",
              "      <td>0.981076</td>\n",
              "      <td>0.832541</td>\n",
              "    </tr>\n",
              "    <tr>\n",
              "      <th>5</th>\n",
              "      <td>24</td>\n",
              "      <td>0.987881</td>\n",
              "      <td>0.828254</td>\n",
              "    </tr>\n",
              "  </tbody>\n",
              "</table>\n",
              "</div>"
            ],
            "text/plain": [
              "   max_depth  r2_train   r2_test\n",
              "0         14  0.885710  0.824893\n",
              "1         16  0.916754  0.828369\n",
              "2         18  0.946406  0.832426\n",
              "3         20  0.967615  0.834512\n",
              "4         22  0.981076  0.832541\n",
              "5         24  0.987881  0.828254"
            ]
          },
          "metadata": {},
          "execution_count": 273
        }
      ]
    },
    {
      "cell_type": "code",
      "source": [
        "fila2 = []\n",
        "\n",
        "for i in range(150,181,5):\n",
        "  et2 = ExtraTreesClassifier(max_depth=20,n_estimators=i,random_state=42)\n",
        "  et2.fit(x_train,y_train)\n",
        "  r2_train = et2.score(x_train, y_train)\n",
        "  r2_test = et2.score(x_test, y_test)\n",
        "  fila2.append([i,r2_train,r2_test])"
      ],
      "metadata": {
        "id": "l22hbZLTNxl6"
      },
      "execution_count": 277,
      "outputs": []
    },
    {
      "cell_type": "code",
      "source": [
        "scores_n_estimators = pd.DataFrame(fila2, columns=[\"n_estimators\",\"r2_train\",\"r2_test\"])\n",
        "scores_n_estimators"
      ],
      "metadata": {
        "colab": {
          "base_uri": "https://localhost:8080/",
          "height": 235
        },
        "id": "2WcntwIYOFgL",
        "outputId": "ef433be3-0def-4847-8fea-d6e372595454"
      },
      "execution_count": 276,
      "outputs": [
        {
          "output_type": "execute_result",
          "data": {
            "text/html": [
              "<div>\n",
              "<style scoped>\n",
              "    .dataframe tbody tr th:only-of-type {\n",
              "        vertical-align: middle;\n",
              "    }\n",
              "\n",
              "    .dataframe tbody tr th {\n",
              "        vertical-align: top;\n",
              "    }\n",
              "\n",
              "    .dataframe thead th {\n",
              "        text-align: right;\n",
              "    }\n",
              "</style>\n",
              "<table border=\"1\" class=\"dataframe\">\n",
              "  <thead>\n",
              "    <tr style=\"text-align: right;\">\n",
              "      <th></th>\n",
              "      <th>n_estimators</th>\n",
              "      <th>r2_train</th>\n",
              "      <th>r2_test</th>\n",
              "    </tr>\n",
              "  </thead>\n",
              "  <tbody>\n",
              "    <tr>\n",
              "      <th>0</th>\n",
              "      <td>120</td>\n",
              "      <td>0.967069</td>\n",
              "      <td>0.832078</td>\n",
              "    </tr>\n",
              "    <tr>\n",
              "      <th>1</th>\n",
              "      <td>125</td>\n",
              "      <td>0.967069</td>\n",
              "      <td>0.832773</td>\n",
              "    </tr>\n",
              "    <tr>\n",
              "      <th>2</th>\n",
              "      <td>130</td>\n",
              "      <td>0.967069</td>\n",
              "      <td>0.832310</td>\n",
              "    </tr>\n",
              "    <tr>\n",
              "      <th>3</th>\n",
              "      <td>135</td>\n",
              "      <td>0.967019</td>\n",
              "      <td>0.831614</td>\n",
              "    </tr>\n",
              "    <tr>\n",
              "      <th>4</th>\n",
              "      <td>140</td>\n",
              "      <td>0.967417</td>\n",
              "      <td>0.832310</td>\n",
              "    </tr>\n",
              "    <tr>\n",
              "      <th>5</th>\n",
              "      <td>145</td>\n",
              "      <td>0.967218</td>\n",
              "      <td>0.831846</td>\n",
              "    </tr>\n",
              "  </tbody>\n",
              "</table>\n",
              "</div>"
            ],
            "text/plain": [
              "   n_estimators  r2_train   r2_test\n",
              "0           120  0.967069  0.832078\n",
              "1           125  0.967069  0.832773\n",
              "2           130  0.967069  0.832310\n",
              "3           135  0.967019  0.831614\n",
              "4           140  0.967417  0.832310\n",
              "5           145  0.967218  0.831846"
            ]
          },
          "metadata": {},
          "execution_count": 276
        }
      ]
    },
    {
      "cell_type": "code",
      "source": [
        "scores_n_estimators = pd.DataFrame(fila2, columns=[\"n_estimators\",\"r2_train\",\"r2_test\"])\n",
        "scores_n_estimators"
      ],
      "metadata": {
        "colab": {
          "base_uri": "https://localhost:8080/",
          "height": 266
        },
        "id": "cFqWXLeaOPhj",
        "outputId": "481adbdc-5b8b-4169-a480-d40abfaa1d29"
      },
      "execution_count": 278,
      "outputs": [
        {
          "output_type": "execute_result",
          "data": {
            "text/html": [
              "<div>\n",
              "<style scoped>\n",
              "    .dataframe tbody tr th:only-of-type {\n",
              "        vertical-align: middle;\n",
              "    }\n",
              "\n",
              "    .dataframe tbody tr th {\n",
              "        vertical-align: top;\n",
              "    }\n",
              "\n",
              "    .dataframe thead th {\n",
              "        text-align: right;\n",
              "    }\n",
              "</style>\n",
              "<table border=\"1\" class=\"dataframe\">\n",
              "  <thead>\n",
              "    <tr style=\"text-align: right;\">\n",
              "      <th></th>\n",
              "      <th>n_estimators</th>\n",
              "      <th>r2_train</th>\n",
              "      <th>r2_test</th>\n",
              "    </tr>\n",
              "  </thead>\n",
              "  <tbody>\n",
              "    <tr>\n",
              "      <th>0</th>\n",
              "      <td>150</td>\n",
              "      <td>0.967069</td>\n",
              "      <td>0.832889</td>\n",
              "    </tr>\n",
              "    <tr>\n",
              "      <th>1</th>\n",
              "      <td>155</td>\n",
              "      <td>0.967119</td>\n",
              "      <td>0.832426</td>\n",
              "    </tr>\n",
              "    <tr>\n",
              "      <th>2</th>\n",
              "      <td>160</td>\n",
              "      <td>0.967119</td>\n",
              "      <td>0.832541</td>\n",
              "    </tr>\n",
              "    <tr>\n",
              "      <th>3</th>\n",
              "      <td>165</td>\n",
              "      <td>0.967268</td>\n",
              "      <td>0.832541</td>\n",
              "    </tr>\n",
              "    <tr>\n",
              "      <th>4</th>\n",
              "      <td>170</td>\n",
              "      <td>0.967019</td>\n",
              "      <td>0.832541</td>\n",
              "    </tr>\n",
              "    <tr>\n",
              "      <th>5</th>\n",
              "      <td>175</td>\n",
              "      <td>0.967069</td>\n",
              "      <td>0.831614</td>\n",
              "    </tr>\n",
              "    <tr>\n",
              "      <th>6</th>\n",
              "      <td>180</td>\n",
              "      <td>0.967119</td>\n",
              "      <td>0.832426</td>\n",
              "    </tr>\n",
              "  </tbody>\n",
              "</table>\n",
              "</div>"
            ],
            "text/plain": [
              "   n_estimators  r2_train   r2_test\n",
              "0           150  0.967069  0.832889\n",
              "1           155  0.967119  0.832426\n",
              "2           160  0.967119  0.832541\n",
              "3           165  0.967268  0.832541\n",
              "4           170  0.967019  0.832541\n",
              "5           175  0.967069  0.831614\n",
              "6           180  0.967119  0.832426"
            ]
          },
          "metadata": {},
          "execution_count": 278
        }
      ]
    },
    {
      "cell_type": "code",
      "source": [
        "plot_confusion_matrix(Extra_T, x_test,y_test)"
      ],
      "metadata": {
        "colab": {
          "base_uri": "https://localhost:8080/",
          "height": 380
        },
        "id": "Ycbl9mdAmNOH",
        "outputId": "bc56f28b-80e3-42dc-9003-ea526e5368d1"
      },
      "execution_count": 282,
      "outputs": [
        {
          "output_type": "stream",
          "name": "stderr",
          "text": [
            "/usr/local/lib/python3.7/dist-packages/sklearn/utils/deprecation.py:87: FutureWarning: Function plot_confusion_matrix is deprecated; Function `plot_confusion_matrix` is deprecated in 1.0 and will be removed in 1.2. Use one of the class methods: ConfusionMatrixDisplay.from_predictions or ConfusionMatrixDisplay.from_estimator.\n",
            "  warnings.warn(msg, category=FutureWarning)\n"
          ]
        },
        {
          "output_type": "execute_result",
          "data": {
            "text/plain": [
              "<sklearn.metrics._plot.confusion_matrix.ConfusionMatrixDisplay at 0x7f1699b37f90>"
            ]
          },
          "metadata": {},
          "execution_count": 282
        },
        {
          "output_type": "display_data",
          "data": {
            "image/png": "[encoded data removed]",
            "text/plain": [
              "<Figure size 360x360 with 2 Axes>"
            ]
          },
          "metadata": {
            "needs_background": "light"
          }
        }
      ]
    },
    {
      "cell_type": "markdown",
      "source": [
        "XG BOOST"
      ],
      "metadata": {
        "id": "NRrjEaSemUCH"
      }
    },
    {
      "cell_type": "code",
      "source": [
        "import xgboost as xgb\n",
        "XGboost = xgb.XGBClassifier(max_depth = 26, n_estimators = 105, colsample_bytree = 0.3)\n",
        "XGboost.fit(x_train,y_train)"
      ],
      "metadata": {
        "colab": {
          "base_uri": "https://localhost:8080/"
        },
        "id": "VrmevvvimTKI",
        "outputId": "7f4b63c9-680a-4050-9a92-a548bdab07a4"
      },
      "execution_count": 382,
      "outputs": [
        {
          "output_type": "execute_result",
          "data": {
            "text/plain": [
              "XGBClassifier(colsample_bytree=0.3, max_depth=26, n_estimators=105)"
            ]
          },
          "metadata": {},
          "execution_count": 382
        }
      ]
    },
    {
      "cell_type": "code",
      "source": [
        "XGboost.score(x_test,y_test)"
      ],
      "metadata": {
        "colab": {
          "base_uri": "https://localhost:8080/"
        },
        "id": "-G_li07coTF0",
        "outputId": "590b6d52-5517-4128-d821-8cbc3f984edd"
      },
      "execution_count": 383,
      "outputs": [
        {
          "output_type": "execute_result",
          "data": {
            "text/plain": [
              "0.8444779232819561"
            ]
          },
          "metadata": {},
          "execution_count": 383
        }
      ]
    },
    {
      "cell_type": "markdown",
      "source": [
        "0.8414648279058987 CON company high type\n",
        "0.8407694982037316 SIN (le saco company type y size y baja - csi agrego gender baja - si saco educ_level baja)"
      ],
      "metadata": {
        "id": "zm23RjaI_9-Y"
      }
    },
    {
      "cell_type": "code",
      "source": [
        "XGboost.score(x_train,y_train)"
      ],
      "metadata": {
        "colab": {
          "base_uri": "https://localhost:8080/"
        },
        "id": "mpraQmfqouXX",
        "outputId": "be6e4fa2-2443-4ce5-d5c9-ec2e5089acca"
      },
      "execution_count": 330,
      "outputs": [
        {
          "output_type": "execute_result",
          "data": {
            "text/plain": [
              "0.9308597824467293"
            ]
          },
          "metadata": {},
          "execution_count": 330
        }
      ]
    },
    {
      "cell_type": "code",
      "source": [
        "fila3 = []\n",
        "\n",
        "for i in range(14,29,2):\n",
        "  xb = xgb.XGBClassifier(max_depth=i)\n",
        "  xb.fit(x_train,y_train)\n",
        "  r2_train = xb.score(x_train, y_train)\n",
        "  r2_test = xb.score(x_test, y_test)\n",
        "  fila3.append([i,r2_train,r2_test])"
      ],
      "metadata": {
        "id": "KTahAEKMO23n"
      },
      "execution_count": 286,
      "outputs": []
    },
    {
      "cell_type": "code",
      "source": [
        "scores_depth_xb = pd.DataFrame(fila3, columns=[\"max_depth\",\"r2_train\",\"r2_test\"])\n",
        "scores_depth_xb"
      ],
      "metadata": {
        "colab": {
          "base_uri": "https://localhost:8080/",
          "height": 297
        },
        "id": "C0w22UpGPg3Z",
        "outputId": "e73775f6-dda7-42e0-eb98-37c329c6426e"
      },
      "execution_count": 287,
      "outputs": [
        {
          "output_type": "execute_result",
          "data": {
            "text/html": [
              "<div>\n",
              "<style scoped>\n",
              "    .dataframe tbody tr th:only-of-type {\n",
              "        vertical-align: middle;\n",
              "    }\n",
              "\n",
              "    .dataframe tbody tr th {\n",
              "        vertical-align: top;\n",
              "    }\n",
              "\n",
              "    .dataframe thead th {\n",
              "        text-align: right;\n",
              "    }\n",
              "</style>\n",
              "<table border=\"1\" class=\"dataframe\">\n",
              "  <thead>\n",
              "    <tr style=\"text-align: right;\">\n",
              "      <th></th>\n",
              "      <th>max_depth</th>\n",
              "      <th>r2_train</th>\n",
              "      <th>r2_test</th>\n",
              "    </tr>\n",
              "  </thead>\n",
              "  <tbody>\n",
              "    <tr>\n",
              "      <th>0</th>\n",
              "      <td>14</td>\n",
              "      <td>0.965579</td>\n",
              "      <td>0.840074</td>\n",
              "    </tr>\n",
              "    <tr>\n",
              "      <th>1</th>\n",
              "      <td>16</td>\n",
              "      <td>0.976953</td>\n",
              "      <td>0.840074</td>\n",
              "    </tr>\n",
              "    <tr>\n",
              "      <th>2</th>\n",
              "      <td>18</td>\n",
              "      <td>0.984553</td>\n",
              "      <td>0.839611</td>\n",
              "    </tr>\n",
              "    <tr>\n",
              "      <th>3</th>\n",
              "      <td>20</td>\n",
              "      <td>0.988973</td>\n",
              "      <td>0.840306</td>\n",
              "    </tr>\n",
              "    <tr>\n",
              "      <th>4</th>\n",
              "      <td>22</td>\n",
              "      <td>0.991258</td>\n",
              "      <td>0.842044</td>\n",
              "    </tr>\n",
              "    <tr>\n",
              "      <th>5</th>\n",
              "      <td>24</td>\n",
              "      <td>0.993344</td>\n",
              "      <td>0.840885</td>\n",
              "    </tr>\n",
              "    <tr>\n",
              "      <th>6</th>\n",
              "      <td>26</td>\n",
              "      <td>0.994636</td>\n",
              "      <td>0.843087</td>\n",
              "    </tr>\n",
              "    <tr>\n",
              "      <th>7</th>\n",
              "      <td>28</td>\n",
              "      <td>0.995281</td>\n",
              "      <td>0.840885</td>\n",
              "    </tr>\n",
              "  </tbody>\n",
              "</table>\n",
              "</div>"
            ],
            "text/plain": [
              "   max_depth  r2_train   r2_test\n",
              "0         14  0.965579  0.840074\n",
              "1         16  0.976953  0.840074\n",
              "2         18  0.984553  0.839611\n",
              "3         20  0.988973  0.840306\n",
              "4         22  0.991258  0.842044\n",
              "5         24  0.993344  0.840885\n",
              "6         26  0.994636  0.843087\n",
              "7         28  0.995281  0.840885"
            ]
          },
          "metadata": {},
          "execution_count": 287
        }
      ]
    },
    {
      "cell_type": "code",
      "source": [
        "fila4 = []\n",
        "\n",
        "for i in range(95,106,5):\n",
        "  xb = xgb.XGBClassifier(max_depth=26, n_estimators=i)\n",
        "  xb.fit(x_train,y_train)\n",
        "  r2_train = xb.score(x_train, y_train)\n",
        "  r2_test = xb.score(x_test, y_test)\n",
        "  fila4.append([i,r2_train,r2_test])"
      ],
      "metadata": {
        "id": "Fhb814VlQCIE"
      },
      "execution_count": 292,
      "outputs": []
    },
    {
      "cell_type": "code",
      "source": [
        "scores_n_estimators2 = pd.DataFrame(fila4, columns=[\"n_estimators\",\"r2_train\",\"r2_test\"])\n",
        "scores_n_estimators2"
      ],
      "metadata": {
        "colab": {
          "base_uri": "https://localhost:8080/",
          "height": 204
        },
        "id": "P2YfQN7kRXsX",
        "outputId": "6d77bb11-87a9-45c0-a929-b163b761f262"
      },
      "execution_count": 291,
      "outputs": [
        {
          "output_type": "execute_result",
          "data": {
            "text/html": [
              "<div>\n",
              "<style scoped>\n",
              "    .dataframe tbody tr th:only-of-type {\n",
              "        vertical-align: middle;\n",
              "    }\n",
              "\n",
              "    .dataframe tbody tr th {\n",
              "        vertical-align: top;\n",
              "    }\n",
              "\n",
              "    .dataframe thead th {\n",
              "        text-align: right;\n",
              "    }\n",
              "</style>\n",
              "<table border=\"1\" class=\"dataframe\">\n",
              "  <thead>\n",
              "    <tr style=\"text-align: right;\">\n",
              "      <th></th>\n",
              "      <th>n_estimators</th>\n",
              "      <th>r2_train</th>\n",
              "      <th>r2_test</th>\n",
              "    </tr>\n",
              "  </thead>\n",
              "  <tbody>\n",
              "    <tr>\n",
              "      <th>0</th>\n",
              "      <td>110</td>\n",
              "      <td>0.995579</td>\n",
              "      <td>0.843435</td>\n",
              "    </tr>\n",
              "    <tr>\n",
              "      <th>1</th>\n",
              "      <td>115</td>\n",
              "      <td>0.995778</td>\n",
              "      <td>0.842624</td>\n",
              "    </tr>\n",
              "    <tr>\n",
              "      <th>2</th>\n",
              "      <td>120</td>\n",
              "      <td>0.995877</td>\n",
              "      <td>0.841697</td>\n",
              "    </tr>\n",
              "    <tr>\n",
              "      <th>3</th>\n",
              "      <td>125</td>\n",
              "      <td>0.996175</td>\n",
              "      <td>0.842160</td>\n",
              "    </tr>\n",
              "    <tr>\n",
              "      <th>4</th>\n",
              "      <td>130</td>\n",
              "      <td>0.996473</td>\n",
              "      <td>0.841117</td>\n",
              "    </tr>\n",
              "  </tbody>\n",
              "</table>\n",
              "</div>"
            ],
            "text/plain": [
              "   n_estimators  r2_train   r2_test\n",
              "0           110  0.995579  0.843435\n",
              "1           115  0.995778  0.842624\n",
              "2           120  0.995877  0.841697\n",
              "3           125  0.996175  0.842160\n",
              "4           130  0.996473  0.841117"
            ]
          },
          "metadata": {},
          "execution_count": 291
        }
      ]
    },
    {
      "cell_type": "code",
      "source": [
        "scores_n_estimators2 = pd.DataFrame(fila4, columns=[\"n_estimators\",\"r2_train\",\"r2_test\"])\n",
        "scores_n_estimators2"
      ],
      "metadata": {
        "colab": {
          "base_uri": "https://localhost:8080/",
          "height": 142
        },
        "id": "vEV95862SDDF",
        "outputId": "2340d9bb-0c84-4f93-fbd0-f0579816c736"
      },
      "execution_count": 293,
      "outputs": [
        {
          "output_type": "execute_result",
          "data": {
            "text/html": [
              "<div>\n",
              "<style scoped>\n",
              "    .dataframe tbody tr th:only-of-type {\n",
              "        vertical-align: middle;\n",
              "    }\n",
              "\n",
              "    .dataframe tbody tr th {\n",
              "        vertical-align: top;\n",
              "    }\n",
              "\n",
              "    .dataframe thead th {\n",
              "        text-align: right;\n",
              "    }\n",
              "</style>\n",
              "<table border=\"1\" class=\"dataframe\">\n",
              "  <thead>\n",
              "    <tr style=\"text-align: right;\">\n",
              "      <th></th>\n",
              "      <th>n_estimators</th>\n",
              "      <th>r2_train</th>\n",
              "      <th>r2_test</th>\n",
              "    </tr>\n",
              "  </thead>\n",
              "  <tbody>\n",
              "    <tr>\n",
              "      <th>0</th>\n",
              "      <td>95</td>\n",
              "      <td>0.994387</td>\n",
              "      <td>0.842855</td>\n",
              "    </tr>\n",
              "    <tr>\n",
              "      <th>1</th>\n",
              "      <td>100</td>\n",
              "      <td>0.994636</td>\n",
              "      <td>0.843087</td>\n",
              "    </tr>\n",
              "    <tr>\n",
              "      <th>2</th>\n",
              "      <td>105</td>\n",
              "      <td>0.995381</td>\n",
              "      <td>0.843667</td>\n",
              "    </tr>\n",
              "  </tbody>\n",
              "</table>\n",
              "</div>"
            ],
            "text/plain": [
              "   n_estimators  r2_train   r2_test\n",
              "0            95  0.994387  0.842855\n",
              "1           100  0.994636  0.843087\n",
              "2           105  0.995381  0.843667"
            ]
          },
          "metadata": {},
          "execution_count": 293
        }
      ]
    },
    {
      "cell_type": "code",
      "source": [
        "from sklearn.metrics import mean_squared_error\n",
        "import numpy as np\n",
        "\n",
        "preds = XGboost.predict(x_test)\n",
        "rmse = np.sqrt(mean_squared_error(y_test, preds))\n",
        "print(\"RMSE: %f\" % (rmse))"
      ],
      "metadata": {
        "colab": {
          "base_uri": "https://localhost:8080/"
        },
        "id": "56ba56tfnpTz",
        "outputId": "af051b78-688f-4f59-d8b1-ce4d43291658"
      },
      "execution_count": 303,
      "outputs": [
        {
          "output_type": "stream",
          "name": "stdout",
          "text": [
            "RMSE: 0.395390\n"
          ]
        }
      ]
    },
    {
      "cell_type": "code",
      "source": [
        "xgb.plot_importance(XGboost)\n",
        "plt.rcParams['figure.figsize'] = [5, 5]\n",
        "plt.show()"
      ],
      "metadata": {
        "colab": {
          "base_uri": "https://localhost:8080/",
          "height": 350
        },
        "id": "Pv8jXx6wpqWW",
        "outputId": "3296007e-affe-4255-d5fc-bc498509f82c"
      },
      "execution_count": 331,
      "outputs": [
        {
          "output_type": "display_data",
          "data": {
            "image/png": "[encoded data removed]",
            "text/plain": [
              "<Figure size 360x360 with 1 Axes>"
            ]
          },
          "metadata": {
            "needs_background": "light"
          }
        }
      ]
    },
    {
      "cell_type": "code",
      "source": [
        "plot_confusion_matrix(XGboost, x_test,y_test)"
      ],
      "metadata": {
        "colab": {
          "base_uri": "https://localhost:8080/",
          "height": 380
        },
        "id": "uoz_4tnRqJqE",
        "outputId": "bd9fef41-1626-4742-bb8f-fb9b74f3455d"
      },
      "execution_count": 332,
      "outputs": [
        {
          "output_type": "stream",
          "name": "stderr",
          "text": [
            "/usr/local/lib/python3.7/dist-packages/sklearn/utils/deprecation.py:87: FutureWarning: Function plot_confusion_matrix is deprecated; Function `plot_confusion_matrix` is deprecated in 1.0 and will be removed in 1.2. Use one of the class methods: ConfusionMatrixDisplay.from_predictions or ConfusionMatrixDisplay.from_estimator.\n",
            "  warnings.warn(msg, category=FutureWarning)\n"
          ]
        },
        {
          "output_type": "execute_result",
          "data": {
            "text/plain": [
              "<sklearn.metrics._plot.confusion_matrix.ConfusionMatrixDisplay at 0x7f1699848d10>"
            ]
          },
          "metadata": {},
          "execution_count": 332
        },
        {
          "output_type": "display_data",
          "data": {
            "image/png": "[encoded data removed]",
            "text/plain": [
              "<Figure size 360x360 with 2 Axes>"
            ]
          },
          "metadata": {
            "needs_background": "light"
          }
        }
      ]
    },
    {
      "cell_type": "code",
      "source": [
        "y_pred_xb_proba = XGboost.predict_proba(x_test)\n",
        "from sklearn.metrics import roc_curve\n",
        "fpr, tpr, thresholds = roc_curve(y_test, y_pred_xb_proba[:,1])\n",
        "plt.figure(figsize=(6,4))\n",
        "plt.plot(fpr,tpr,'-g',linewidth=1)\n",
        "plt.plot([0,1], [0,1], 'k--' )\n",
        "plt.title('ROC curve for Logistic Regression Model')\n",
        "plt.xlabel(\"False Positive Rate\")\n",
        "plt.ylabel('True Positive Rate')\n",
        "plt.show()"
      ],
      "metadata": {
        "colab": {
          "base_uri": "https://localhost:8080/",
          "height": 295
        },
        "id": "1OaTnpnGkixa",
        "outputId": "5806a75c-d811-4ee9-e25e-b7961914ecfc"
      },
      "execution_count": 385,
      "outputs": [
        {
          "output_type": "display_data",
          "data": {
            "image/png": "[encoded data removed]",
            "text/plain": [
              "<Figure size 432x288 with 1 Axes>"
            ]
          },
          "metadata": {
            "needs_background": "light"
          }
        }
      ]
    },
    {
      "cell_type": "code",
      "source": [
        "from sklearn.metrics import roc_auc_score\n",
        "roc_auc_score(y_test, XGboost.predict_proba(x_test)[:,1]) "
      ],
      "metadata": {
        "colab": {
          "base_uri": "https://localhost:8080/"
        },
        "id": "bUZoyKeGlPD-",
        "outputId": "2cfc3a58-6a31-4bf4-eddb-cd2a17b57489"
      },
      "execution_count": 388,
      "outputs": [
        {
          "output_type": "execute_result",
          "data": {
            "text/plain": [
              "0.9143779465702917"
            ]
          },
          "metadata": {},
          "execution_count": 388
        }
      ]
    },
    {
      "cell_type": "markdown",
      "source": [
        "SVM"
      ],
      "metadata": {
        "id": "rKJj-taYt0a0"
      }
    },
    {
      "cell_type": "code",
      "source": [
        "from sklearn import svm\n",
        "svm_clf = svm.SVC(kernel='linear')\n",
        "svm_clf.fit(x_train, y_train)"
      ],
      "metadata": {
        "colab": {
          "base_uri": "https://localhost:8080/"
        },
        "id": "QrlWcC0QuSF4",
        "outputId": "3f2bfa6b-44f3-42ef-f33d-20d5eb7dd9d2"
      },
      "execution_count": 166,
      "outputs": [
        {
          "output_type": "execute_result",
          "data": {
            "text/plain": [
              "SVC(kernel='linear')"
            ]
          },
          "metadata": {},
          "execution_count": 166
        }
      ]
    },
    {
      "cell_type": "code",
      "source": [
        "svm_clf.score(x_test,y_test)"
      ],
      "metadata": {
        "colab": {
          "base_uri": "https://localhost:8080/"
        },
        "id": "VDHpNpa4uy54",
        "outputId": "2d9e70eb-4ad2-419f-8f8d-6d1b47899ed6"
      },
      "execution_count": 168,
      "outputs": [
        {
          "output_type": "execute_result",
          "data": {
            "text/plain": [
              "0.7480588712481168"
            ]
          },
          "metadata": {},
          "execution_count": 168
        }
      ]
    },
    {
      "cell_type": "code",
      "source": [
        "svm_clf.score(x_train,y_train)"
      ],
      "metadata": {
        "colab": {
          "base_uri": "https://localhost:8080/"
        },
        "id": "RTrN_Vrou30F",
        "outputId": "2bca8d65-8241-4fe2-b0af-549b6e77c2e1"
      },
      "execution_count": 169,
      "outputs": [
        {
          "output_type": "execute_result",
          "data": {
            "text/plain": [
              "0.7465852083643769"
            ]
          },
          "metadata": {},
          "execution_count": 169
        }
      ]
    },
    {
      "cell_type": "code",
      "source": [
        "from sklearn import metrics\n",
        "\n",
        "Ypred = svm_clf.predict(x_test)\n",
        "\n",
        "print(\"Precision:\",metrics.precision_score(y_test, Ypred))\n",
        "print(\"Recall:\",metrics.recall_score(y_test, Ypred))"
      ],
      "metadata": {
        "colab": {
          "base_uri": "https://localhost:8080/"
        },
        "id": "xv9WUtmBu6jB",
        "outputId": "6a1c5605-38fe-4a5a-801e-7c9377faf073"
      },
      "execution_count": 377,
      "outputs": [
        {
          "output_type": "stream",
          "name": "stderr",
          "text": [
            "/usr/local/lib/python3.7/dist-packages/sklearn/base.py:488: FutureWarning: The feature names should match those that were passed during fit. Starting version 1.2, an error will be raised.\n",
            "Feature names must be in the same order as they were in fit.\n",
            "\n",
            "  warnings.warn(message, FutureWarning)\n"
          ]
        },
        {
          "output_type": "stream",
          "name": "stdout",
          "text": [
            "Precision: 0.762200956937799\n",
            "Recall: 0.7273972602739726\n"
          ]
        }
      ]
    },
    {
      "cell_type": "markdown",
      "source": [
        "**Precision** nos da la calidad de la predicción: ¿qué porcentaje de los que hemos dicho que son la clase positiva, en realidad lo son?\n",
        "**Recall** nos da la cantidad: ¿qué porcentaje de la clase positiva hemos sido capaces de identificar?\n",
        "**F1** combina Precision y Recall en una sola medida"
      ],
      "metadata": {
        "id": "t3eCfp_v2acg"
      }
    },
    {
      "cell_type": "code",
      "source": [
        "plot_confusion_matrix(svm_clf, x_test,y_test)"
      ],
      "metadata": {
        "colab": {
          "base_uri": "https://localhost:8080/",
          "height": 380
        },
        "id": "8N5T7NrIvMVv",
        "outputId": "e2a7e89c-684d-473c-9bec-922d84601754"
      },
      "execution_count": 172,
      "outputs": [
        {
          "output_type": "stream",
          "name": "stderr",
          "text": [
            "/usr/local/lib/python3.7/dist-packages/sklearn/utils/deprecation.py:87: FutureWarning: Function plot_confusion_matrix is deprecated; Function `plot_confusion_matrix` is deprecated in 1.0 and will be removed in 1.2. Use one of the class methods: ConfusionMatrixDisplay.from_predictions or ConfusionMatrixDisplay.from_estimator.\n",
            "  warnings.warn(msg, category=FutureWarning)\n"
          ]
        },
        {
          "output_type": "execute_result",
          "data": {
            "text/plain": [
              "<sklearn.metrics._plot.confusion_matrix.ConfusionMatrixDisplay at 0x7f1699ffb590>"
            ]
          },
          "metadata": {},
          "execution_count": 172
        },
        {
          "output_type": "display_data",
          "data": {
            "image/png": "[encoded data removed]",
            "text/plain": [
              "<Figure size 360x360 with 2 Axes>"
            ]
          },
          "metadata": {
            "needs_background": "light"
          }
        }
      ]
    },
    {
      "cell_type": "markdown",
      "source": [
        "RED NEURONAL"
      ],
      "metadata": {
        "id": "jUt2q_NyvQL8"
      }
    },
    {
      "cell_type": "code",
      "source": [
        "from sklearn.neural_network import MLPClassifier\n",
        "clf_red = MLPClassifier(hidden_layer_sizes=(7,), random_state=42)\n",
        "clf_red.fit(x_train, y_train)"
      ],
      "metadata": {
        "colab": {
          "base_uri": "https://localhost:8080/"
        },
        "id": "kOZxL2f2vSDb",
        "outputId": "440f1e1e-d383-40ab-bcfc-0da9aecf2c73"
      },
      "execution_count": 364,
      "outputs": [
        {
          "output_type": "execute_result",
          "data": {
            "text/plain": [
              "MLPClassifier(hidden_layer_sizes=(7,), random_state=42)"
            ]
          },
          "metadata": {},
          "execution_count": 364
        }
      ]
    },
    {
      "cell_type": "code",
      "source": [
        "clf_red.score(x_test,y_test)"
      ],
      "metadata": {
        "colab": {
          "base_uri": "https://localhost:8080/"
        },
        "id": "ORFe6DXkytdD",
        "outputId": "86f606dd-2f9a-4c27-c37e-0ce9507792e4"
      },
      "execution_count": 365,
      "outputs": [
        {
          "output_type": "execute_result",
          "data": {
            "text/plain": [
              "0.78943098852706"
            ]
          },
          "metadata": {},
          "execution_count": 365
        }
      ]
    },
    {
      "cell_type": "code",
      "source": [
        "clf_red.score(x_train,y_train)"
      ],
      "metadata": {
        "colab": {
          "base_uri": "https://localhost:8080/"
        },
        "id": "gZk61cxZ0ot6",
        "outputId": "09da9ce0-9f17-463b-ee43-38ff0ab0f595"
      },
      "execution_count": 366,
      "outputs": [
        {
          "output_type": "execute_result",
          "data": {
            "text/plain": [
              "0.7840858292355833"
            ]
          },
          "metadata": {},
          "execution_count": 366
        }
      ]
    },
    {
      "cell_type": "code",
      "source": [
        "fila7 = []\n",
        "\n",
        "for i in range(5,22,2):\n",
        "  red = MLPClassifier(hidden_layer_sizes=(i,), random_state=42)\n",
        "  red.fit(x_train,y_train)\n",
        "  r2_train = red.score(x_train, y_train)\n",
        "  r2_test = red.score(x_test, y_test)\n",
        "  fila7.append([i,r2_train,r2_test])"
      ],
      "metadata": {
        "colab": {
          "base_uri": "https://localhost:8080/"
        },
        "id": "kpID9ot_cdyX",
        "outputId": "8bc581b0-4dd4-4c71-e8bf-29220f9a6d32"
      },
      "execution_count": 362,
      "outputs": [
        {
          "output_type": "stream",
          "name": "stderr",
          "text": [
            "/usr/local/lib/python3.7/dist-packages/sklearn/neural_network/_multilayer_perceptron.py:696: ConvergenceWarning: Stochastic Optimizer: Maximum iterations (200) reached and the optimization hasn't converged yet.\n",
            "  ConvergenceWarning,\n"
          ]
        }
      ]
    },
    {
      "cell_type": "code",
      "source": [
        "scores_layers = pd.DataFrame(fila7, columns=[\"capas ocultas\",\"r2_train\",\"r2_test\"])\n",
        "scores_layers"
      ],
      "metadata": {
        "colab": {
          "base_uri": "https://localhost:8080/",
          "height": 328
        },
        "id": "4RAzTJ8WdCCg",
        "outputId": "114f5f4b-d402-4745-bede-f863906640f7"
      },
      "execution_count": 363,
      "outputs": [
        {
          "output_type": "execute_result",
          "data": {
            "text/html": [
              "<div>\n",
              "<style scoped>\n",
              "    .dataframe tbody tr th:only-of-type {\n",
              "        vertical-align: middle;\n",
              "    }\n",
              "\n",
              "    .dataframe tbody tr th {\n",
              "        vertical-align: top;\n",
              "    }\n",
              "\n",
              "    .dataframe thead th {\n",
              "        text-align: right;\n",
              "    }\n",
              "</style>\n",
              "<table border=\"1\" class=\"dataframe\">\n",
              "  <thead>\n",
              "    <tr style=\"text-align: right;\">\n",
              "      <th></th>\n",
              "      <th>capas ocultas</th>\n",
              "      <th>r2_train</th>\n",
              "      <th>r2_test</th>\n",
              "    </tr>\n",
              "  </thead>\n",
              "  <tbody>\n",
              "    <tr>\n",
              "      <th>0</th>\n",
              "      <td>5</td>\n",
              "      <td>0.745492</td>\n",
              "      <td>0.741453</td>\n",
              "    </tr>\n",
              "    <tr>\n",
              "      <th>1</th>\n",
              "      <td>7</td>\n",
              "      <td>0.784086</td>\n",
              "      <td>0.789431</td>\n",
              "    </tr>\n",
              "    <tr>\n",
              "      <th>2</th>\n",
              "      <td>9</td>\n",
              "      <td>0.765410</td>\n",
              "      <td>0.770889</td>\n",
              "    </tr>\n",
              "    <tr>\n",
              "      <th>3</th>\n",
              "      <td>11</td>\n",
              "      <td>0.780410</td>\n",
              "      <td>0.782709</td>\n",
              "    </tr>\n",
              "    <tr>\n",
              "      <th>4</th>\n",
              "      <td>13</td>\n",
              "      <td>0.769731</td>\n",
              "      <td>0.766601</td>\n",
              "    </tr>\n",
              "    <tr>\n",
              "      <th>5</th>\n",
              "      <td>15</td>\n",
              "      <td>0.769533</td>\n",
              "      <td>0.774018</td>\n",
              "    </tr>\n",
              "    <tr>\n",
              "      <th>6</th>\n",
              "      <td>17</td>\n",
              "      <td>0.776139</td>\n",
              "      <td>0.771005</td>\n",
              "    </tr>\n",
              "    <tr>\n",
              "      <th>7</th>\n",
              "      <td>19</td>\n",
              "      <td>0.785874</td>\n",
              "      <td>0.783405</td>\n",
              "    </tr>\n",
              "    <tr>\n",
              "      <th>8</th>\n",
              "      <td>21</td>\n",
              "      <td>0.775493</td>\n",
              "      <td>0.774366</td>\n",
              "    </tr>\n",
              "  </tbody>\n",
              "</table>\n",
              "</div>"
            ],
            "text/plain": [
              "   capas ocultas  r2_train   r2_test\n",
              "0              5  0.745492  0.741453\n",
              "1              7  0.784086  0.789431\n",
              "2              9  0.765410  0.770889\n",
              "3             11  0.780410  0.782709\n",
              "4             13  0.769731  0.766601\n",
              "5             15  0.769533  0.774018\n",
              "6             17  0.776139  0.771005\n",
              "7             19  0.785874  0.783405\n",
              "8             21  0.775493  0.774366"
            ]
          },
          "metadata": {},
          "execution_count": 363
        }
      ]
    },
    {
      "cell_type": "code",
      "source": [
        "plot_confusion_matrix(clf_red, x_test,y_test)"
      ],
      "metadata": {
        "colab": {
          "base_uri": "https://localhost:8080/",
          "height": 380
        },
        "id": "fTicdT1v03s4",
        "outputId": "94f3cc88-e2fd-41aa-ce33-054b27e13a9b"
      },
      "execution_count": 367,
      "outputs": [
        {
          "output_type": "stream",
          "name": "stderr",
          "text": [
            "/usr/local/lib/python3.7/dist-packages/sklearn/utils/deprecation.py:87: FutureWarning: Function plot_confusion_matrix is deprecated; Function `plot_confusion_matrix` is deprecated in 1.0 and will be removed in 1.2. Use one of the class methods: ConfusionMatrixDisplay.from_predictions or ConfusionMatrixDisplay.from_estimator.\n",
            "  warnings.warn(msg, category=FutureWarning)\n"
          ]
        },
        {
          "output_type": "execute_result",
          "data": {
            "text/plain": [
              "<sklearn.metrics._plot.confusion_matrix.ConfusionMatrixDisplay at 0x7f16996017d0>"
            ]
          },
          "metadata": {},
          "execution_count": 367
        },
        {
          "output_type": "display_data",
          "data": {
            "image/png": "[encoded data removed]",
            "text/plain": [
              "<Figure size 360x360 with 2 Axes>"
            ]
          },
          "metadata": {
            "needs_background": "light"
          }
        }
      ]
    },
    {
      "cell_type": "code",
      "source": [
        "red_pred = clf_red.predict(x_test)\n",
        "\n",
        "print(\"Precision:\",metrics.precision_score(y_test, red_pred))\n",
        "print(\"Recall:\",metrics.recall_score(y_test, red_pred))"
      ],
      "metadata": {
        "colab": {
          "base_uri": "https://localhost:8080/"
        },
        "id": "fPqpnUCG0_gO",
        "outputId": "e0de9e18-d037-4e2a-bfb4-de2bd7eae667"
      },
      "execution_count": 368,
      "outputs": [
        {
          "output_type": "stream",
          "name": "stdout",
          "text": [
            "Precision: 0.7689401888772298\n",
            "Recall: 0.8365296803652968\n"
          ]
        }
      ]
    }
  ]
}